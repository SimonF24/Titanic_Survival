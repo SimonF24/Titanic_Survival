{
 "cells": [
  {
   "cell_type": "markdown",
   "id": "41d1dd6e",
   "metadata": {
    "papermill": {
     "duration": 0.010867,
     "end_time": "2022-06-29T16:44:49.838124",
     "exception": false,
     "start_time": "2022-06-29T16:44:49.827257",
     "status": "completed"
    },
    "tags": []
   },
   "source": [
    "# Titanic Survival"
   ]
  },
  {
   "cell_type": "markdown",
   "id": "adf972df",
   "metadata": {
    "papermill": {
     "duration": 0.009149,
     "end_time": "2022-06-29T16:44:49.856749",
     "exception": false,
     "start_time": "2022-06-29T16:44:49.847600",
     "status": "completed"
    },
    "tags": []
   },
   "source": [
    "The task is to predict which passengers will survive the sinking of the titanic given some information about the passengers. Full information is available here: https://www.kaggle.com/competitions/titanic"
   ]
  },
  {
   "cell_type": "markdown",
   "id": "121186cf",
   "metadata": {
    "papermill": {
     "duration": 0.009325,
     "end_time": "2022-06-29T16:44:49.875454",
     "exception": false,
     "start_time": "2022-06-29T16:44:49.866129",
     "status": "completed"
    },
    "tags": []
   },
   "source": [
    "# Imports"
   ]
  },
  {
   "cell_type": "code",
   "execution_count": 1,
   "id": "9e9f0767",
   "metadata": {
    "_cell_guid": "b1076dfc-b9ad-4769-8c92-a6c4dae69d19",
    "_uuid": "8f2839f25d086af736a60e9eeb907d3b93b6e0e5",
    "execution": {
     "iopub.execute_input": "2022-06-29T16:44:49.896513Z",
     "iopub.status.busy": "2022-06-29T16:44:49.895492Z",
     "iopub.status.idle": "2022-06-29T16:44:51.443688Z",
     "shell.execute_reply": "2022-06-29T16:44:51.442365Z"
    },
    "papermill": {
     "duration": 1.561853,
     "end_time": "2022-06-29T16:44:51.446518",
     "exception": false,
     "start_time": "2022-06-29T16:44:49.884665",
     "status": "completed"
    },
    "tags": []
   },
   "outputs": [],
   "source": [
    "import math\n",
    "import matplotlib.pyplot as plt\n",
    "import numpy as np\n",
    "import pandas as pd\n",
    "import re\n",
    "from sklearn.ensemble import RandomForestClassifier\n",
    "from sklearn.metrics import mean_squared_error\n",
    "from sklearn.model_selection import cross_val_score, GridSearchCV\n",
    "from xgboost import XGBClassifier"
   ]
  },
  {
   "cell_type": "markdown",
   "id": "346c3634",
   "metadata": {
    "papermill": {
     "duration": 0.008966,
     "end_time": "2022-06-29T16:44:51.464516",
     "exception": false,
     "start_time": "2022-06-29T16:44:51.455550",
     "status": "completed"
    },
    "tags": []
   },
   "source": [
    "# Loading Data"
   ]
  },
  {
   "cell_type": "code",
   "execution_count": 2,
   "id": "3fb72c59",
   "metadata": {
    "execution": {
     "iopub.execute_input": "2022-06-29T16:44:51.485196Z",
     "iopub.status.busy": "2022-06-29T16:44:51.484825Z",
     "iopub.status.idle": "2022-06-29T16:44:51.517142Z",
     "shell.execute_reply": "2022-06-29T16:44:51.516449Z"
    },
    "papermill": {
     "duration": 0.045173,
     "end_time": "2022-06-29T16:44:51.519184",
     "exception": false,
     "start_time": "2022-06-29T16:44:51.474011",
     "status": "completed"
    },
    "tags": []
   },
   "outputs": [],
   "source": [
    "gender_submission = pd.read_csv('../input/titanic/gender_submission.csv') # This is a sample submission\n",
    "train_data = pd.read_csv('../input/titanic/train.csv', index_col='PassengerId')"
   ]
  },
  {
   "cell_type": "markdown",
   "id": "d34841a0",
   "metadata": {
    "papermill": {
     "duration": 0.008911,
     "end_time": "2022-06-29T16:44:51.537629",
     "exception": false,
     "start_time": "2022-06-29T16:44:51.528718",
     "status": "completed"
    },
    "tags": []
   },
   "source": [
    "# EDA"
   ]
  },
  {
   "cell_type": "markdown",
   "id": "6e1d8efe",
   "metadata": {
    "papermill": {
     "duration": 0.008627,
     "end_time": "2022-06-29T16:44:51.555370",
     "exception": false,
     "start_time": "2022-06-29T16:44:51.546743",
     "status": "completed"
    },
    "tags": []
   },
   "source": [
    "This is a very simple EDA, but this data isn't terribly complicated"
   ]
  },
  {
   "cell_type": "code",
   "execution_count": 3,
   "id": "265fa16e",
   "metadata": {
    "execution": {
     "iopub.execute_input": "2022-06-29T16:44:51.575292Z",
     "iopub.status.busy": "2022-06-29T16:44:51.574476Z",
     "iopub.status.idle": "2022-06-29T16:44:51.611678Z",
     "shell.execute_reply": "2022-06-29T16:44:51.610725Z"
    },
    "papermill": {
     "duration": 0.049843,
     "end_time": "2022-06-29T16:44:51.614306",
     "exception": false,
     "start_time": "2022-06-29T16:44:51.564463",
     "status": "completed"
    },
    "tags": []
   },
   "outputs": [
    {
     "data": {
      "text/html": [
       "<div>\n",
       "<style scoped>\n",
       "    .dataframe tbody tr th:only-of-type {\n",
       "        vertical-align: middle;\n",
       "    }\n",
       "\n",
       "    .dataframe tbody tr th {\n",
       "        vertical-align: top;\n",
       "    }\n",
       "\n",
       "    .dataframe thead th {\n",
       "        text-align: right;\n",
       "    }\n",
       "</style>\n",
       "<table border=\"1\" class=\"dataframe\">\n",
       "  <thead>\n",
       "    <tr style=\"text-align: right;\">\n",
       "      <th></th>\n",
       "      <th>Survived</th>\n",
       "      <th>Pclass</th>\n",
       "      <th>Age</th>\n",
       "      <th>SibSp</th>\n",
       "      <th>Parch</th>\n",
       "      <th>Fare</th>\n",
       "    </tr>\n",
       "  </thead>\n",
       "  <tbody>\n",
       "    <tr>\n",
       "      <th>count</th>\n",
       "      <td>891.000000</td>\n",
       "      <td>891.000000</td>\n",
       "      <td>714.000000</td>\n",
       "      <td>891.000000</td>\n",
       "      <td>891.000000</td>\n",
       "      <td>891.000000</td>\n",
       "    </tr>\n",
       "    <tr>\n",
       "      <th>mean</th>\n",
       "      <td>0.383838</td>\n",
       "      <td>2.308642</td>\n",
       "      <td>29.699118</td>\n",
       "      <td>0.523008</td>\n",
       "      <td>0.381594</td>\n",
       "      <td>32.204208</td>\n",
       "    </tr>\n",
       "    <tr>\n",
       "      <th>std</th>\n",
       "      <td>0.486592</td>\n",
       "      <td>0.836071</td>\n",
       "      <td>14.526497</td>\n",
       "      <td>1.102743</td>\n",
       "      <td>0.806057</td>\n",
       "      <td>49.693429</td>\n",
       "    </tr>\n",
       "    <tr>\n",
       "      <th>min</th>\n",
       "      <td>0.000000</td>\n",
       "      <td>1.000000</td>\n",
       "      <td>0.420000</td>\n",
       "      <td>0.000000</td>\n",
       "      <td>0.000000</td>\n",
       "      <td>0.000000</td>\n",
       "    </tr>\n",
       "    <tr>\n",
       "      <th>25%</th>\n",
       "      <td>0.000000</td>\n",
       "      <td>2.000000</td>\n",
       "      <td>20.125000</td>\n",
       "      <td>0.000000</td>\n",
       "      <td>0.000000</td>\n",
       "      <td>7.910400</td>\n",
       "    </tr>\n",
       "    <tr>\n",
       "      <th>50%</th>\n",
       "      <td>0.000000</td>\n",
       "      <td>3.000000</td>\n",
       "      <td>28.000000</td>\n",
       "      <td>0.000000</td>\n",
       "      <td>0.000000</td>\n",
       "      <td>14.454200</td>\n",
       "    </tr>\n",
       "    <tr>\n",
       "      <th>75%</th>\n",
       "      <td>1.000000</td>\n",
       "      <td>3.000000</td>\n",
       "      <td>38.000000</td>\n",
       "      <td>1.000000</td>\n",
       "      <td>0.000000</td>\n",
       "      <td>31.000000</td>\n",
       "    </tr>\n",
       "    <tr>\n",
       "      <th>max</th>\n",
       "      <td>1.000000</td>\n",
       "      <td>3.000000</td>\n",
       "      <td>80.000000</td>\n",
       "      <td>8.000000</td>\n",
       "      <td>6.000000</td>\n",
       "      <td>512.329200</td>\n",
       "    </tr>\n",
       "  </tbody>\n",
       "</table>\n",
       "</div>"
      ],
      "text/plain": [
       "         Survived      Pclass         Age       SibSp       Parch        Fare\n",
       "count  891.000000  891.000000  714.000000  891.000000  891.000000  891.000000\n",
       "mean     0.383838    2.308642   29.699118    0.523008    0.381594   32.204208\n",
       "std      0.486592    0.836071   14.526497    1.102743    0.806057   49.693429\n",
       "min      0.000000    1.000000    0.420000    0.000000    0.000000    0.000000\n",
       "25%      0.000000    2.000000   20.125000    0.000000    0.000000    7.910400\n",
       "50%      0.000000    3.000000   28.000000    0.000000    0.000000   14.454200\n",
       "75%      1.000000    3.000000   38.000000    1.000000    0.000000   31.000000\n",
       "max      1.000000    3.000000   80.000000    8.000000    6.000000  512.329200"
      ]
     },
     "execution_count": 3,
     "metadata": {},
     "output_type": "execute_result"
    }
   ],
   "source": [
    "train_data.describe()"
   ]
  },
  {
   "cell_type": "code",
   "execution_count": 4,
   "id": "34719e72",
   "metadata": {
    "execution": {
     "iopub.execute_input": "2022-06-29T16:44:51.634734Z",
     "iopub.status.busy": "2022-06-29T16:44:51.634334Z",
     "iopub.status.idle": "2022-06-29T16:44:51.648295Z",
     "shell.execute_reply": "2022-06-29T16:44:51.647598Z"
    },
    "papermill": {
     "duration": 0.026264,
     "end_time": "2022-06-29T16:44:51.650131",
     "exception": false,
     "start_time": "2022-06-29T16:44:51.623867",
     "status": "completed"
    },
    "tags": []
   },
   "outputs": [
    {
     "data": {
      "text/html": [
       "<div>\n",
       "<style scoped>\n",
       "    .dataframe tbody tr th:only-of-type {\n",
       "        vertical-align: middle;\n",
       "    }\n",
       "\n",
       "    .dataframe tbody tr th {\n",
       "        vertical-align: top;\n",
       "    }\n",
       "\n",
       "    .dataframe thead th {\n",
       "        text-align: right;\n",
       "    }\n",
       "</style>\n",
       "<table border=\"1\" class=\"dataframe\">\n",
       "  <thead>\n",
       "    <tr style=\"text-align: right;\">\n",
       "      <th></th>\n",
       "      <th>Survived</th>\n",
       "      <th>Pclass</th>\n",
       "      <th>Name</th>\n",
       "      <th>Sex</th>\n",
       "      <th>Age</th>\n",
       "      <th>SibSp</th>\n",
       "      <th>Parch</th>\n",
       "      <th>Ticket</th>\n",
       "      <th>Fare</th>\n",
       "      <th>Cabin</th>\n",
       "      <th>Embarked</th>\n",
       "    </tr>\n",
       "    <tr>\n",
       "      <th>PassengerId</th>\n",
       "      <th></th>\n",
       "      <th></th>\n",
       "      <th></th>\n",
       "      <th></th>\n",
       "      <th></th>\n",
       "      <th></th>\n",
       "      <th></th>\n",
       "      <th></th>\n",
       "      <th></th>\n",
       "      <th></th>\n",
       "      <th></th>\n",
       "    </tr>\n",
       "  </thead>\n",
       "  <tbody>\n",
       "    <tr>\n",
       "      <th>1</th>\n",
       "      <td>0</td>\n",
       "      <td>3</td>\n",
       "      <td>Braund, Mr. Owen Harris</td>\n",
       "      <td>male</td>\n",
       "      <td>22.0</td>\n",
       "      <td>1</td>\n",
       "      <td>0</td>\n",
       "      <td>A/5 21171</td>\n",
       "      <td>7.2500</td>\n",
       "      <td>NaN</td>\n",
       "      <td>S</td>\n",
       "    </tr>\n",
       "    <tr>\n",
       "      <th>2</th>\n",
       "      <td>1</td>\n",
       "      <td>1</td>\n",
       "      <td>Cumings, Mrs. John Bradley (Florence Briggs Th...</td>\n",
       "      <td>female</td>\n",
       "      <td>38.0</td>\n",
       "      <td>1</td>\n",
       "      <td>0</td>\n",
       "      <td>PC 17599</td>\n",
       "      <td>71.2833</td>\n",
       "      <td>C85</td>\n",
       "      <td>C</td>\n",
       "    </tr>\n",
       "    <tr>\n",
       "      <th>3</th>\n",
       "      <td>1</td>\n",
       "      <td>3</td>\n",
       "      <td>Heikkinen, Miss. Laina</td>\n",
       "      <td>female</td>\n",
       "      <td>26.0</td>\n",
       "      <td>0</td>\n",
       "      <td>0</td>\n",
       "      <td>STON/O2. 3101282</td>\n",
       "      <td>7.9250</td>\n",
       "      <td>NaN</td>\n",
       "      <td>S</td>\n",
       "    </tr>\n",
       "    <tr>\n",
       "      <th>4</th>\n",
       "      <td>1</td>\n",
       "      <td>1</td>\n",
       "      <td>Futrelle, Mrs. Jacques Heath (Lily May Peel)</td>\n",
       "      <td>female</td>\n",
       "      <td>35.0</td>\n",
       "      <td>1</td>\n",
       "      <td>0</td>\n",
       "      <td>113803</td>\n",
       "      <td>53.1000</td>\n",
       "      <td>C123</td>\n",
       "      <td>S</td>\n",
       "    </tr>\n",
       "    <tr>\n",
       "      <th>5</th>\n",
       "      <td>0</td>\n",
       "      <td>3</td>\n",
       "      <td>Allen, Mr. William Henry</td>\n",
       "      <td>male</td>\n",
       "      <td>35.0</td>\n",
       "      <td>0</td>\n",
       "      <td>0</td>\n",
       "      <td>373450</td>\n",
       "      <td>8.0500</td>\n",
       "      <td>NaN</td>\n",
       "      <td>S</td>\n",
       "    </tr>\n",
       "  </tbody>\n",
       "</table>\n",
       "</div>"
      ],
      "text/plain": [
       "             Survived  Pclass  \\\n",
       "PassengerId                     \n",
       "1                   0       3   \n",
       "2                   1       1   \n",
       "3                   1       3   \n",
       "4                   1       1   \n",
       "5                   0       3   \n",
       "\n",
       "                                                          Name     Sex   Age  \\\n",
       "PassengerId                                                                    \n",
       "1                                      Braund, Mr. Owen Harris    male  22.0   \n",
       "2            Cumings, Mrs. John Bradley (Florence Briggs Th...  female  38.0   \n",
       "3                                       Heikkinen, Miss. Laina  female  26.0   \n",
       "4                 Futrelle, Mrs. Jacques Heath (Lily May Peel)  female  35.0   \n",
       "5                                     Allen, Mr. William Henry    male  35.0   \n",
       "\n",
       "             SibSp  Parch            Ticket     Fare Cabin Embarked  \n",
       "PassengerId                                                          \n",
       "1                1      0         A/5 21171   7.2500   NaN        S  \n",
       "2                1      0          PC 17599  71.2833   C85        C  \n",
       "3                0      0  STON/O2. 3101282   7.9250   NaN        S  \n",
       "4                1      0            113803  53.1000  C123        S  \n",
       "5                0      0            373450   8.0500   NaN        S  "
      ]
     },
     "execution_count": 4,
     "metadata": {},
     "output_type": "execute_result"
    }
   ],
   "source": [
    "train_data.head()"
   ]
  },
  {
   "cell_type": "markdown",
   "id": "80cb09ea",
   "metadata": {
    "papermill": {
     "duration": 0.009859,
     "end_time": "2022-06-29T16:44:51.669791",
     "exception": false,
     "start_time": "2022-06-29T16:44:51.659932",
     "status": "completed"
    },
    "tags": []
   },
   "source": [
    "What is present in the \"Cabin\" and \"Ticket\" column, and if they could be significant isn't immediately obvious, so we investigate further. We'd also like a closer look at the \"Name\" column."
   ]
  },
  {
   "cell_type": "code",
   "execution_count": 5,
   "id": "9dc93dac",
   "metadata": {
    "execution": {
     "iopub.execute_input": "2022-06-29T16:44:51.691986Z",
     "iopub.status.busy": "2022-06-29T16:44:51.691147Z",
     "iopub.status.idle": "2022-06-29T16:44:51.700518Z",
     "shell.execute_reply": "2022-06-29T16:44:51.699418Z"
    },
    "papermill": {
     "duration": 0.022752,
     "end_time": "2022-06-29T16:44:51.702879",
     "exception": false,
     "start_time": "2022-06-29T16:44:51.680127",
     "status": "completed"
    },
    "tags": []
   },
   "outputs": [
    {
     "name": "stdout",
     "output_type": "stream",
     "text": [
      "            Cabin                                               Name  \\\n",
      "PassengerId                                                            \n",
      "1             NaN                            Braund, Mr. Owen Harris   \n",
      "2             C85  Cumings, Mrs. John Bradley (Florence Briggs Th...   \n",
      "3             NaN                             Heikkinen, Miss. Laina   \n",
      "4            C123       Futrelle, Mrs. Jacques Heath (Lily May Peel)   \n",
      "5             NaN                           Allen, Mr. William Henry   \n",
      "6             NaN                                   Moran, Mr. James   \n",
      "7             E46                            McCarthy, Mr. Timothy J   \n",
      "8             NaN                     Palsson, Master. Gosta Leonard   \n",
      "9             NaN  Johnson, Mrs. Oscar W (Elisabeth Vilhelmina Berg)   \n",
      "10            NaN                Nasser, Mrs. Nicholas (Adele Achem)   \n",
      "\n",
      "                       Ticket  \n",
      "PassengerId                    \n",
      "1                   A/5 21171  \n",
      "2                    PC 17599  \n",
      "3            STON/O2. 3101282  \n",
      "4                      113803  \n",
      "5                      373450  \n",
      "6                      330877  \n",
      "7                       17463  \n",
      "8                      349909  \n",
      "9                      347742  \n",
      "10                     237736  \n"
     ]
    }
   ],
   "source": [
    "print(train_data[['Cabin', 'Name', 'Ticket']][:10])"
   ]
  },
  {
   "cell_type": "markdown",
   "id": "ab1ffed0",
   "metadata": {
    "papermill": {
     "duration": 0.009263,
     "end_time": "2022-06-29T16:44:51.722048",
     "exception": false,
     "start_time": "2022-06-29T16:44:51.712785",
     "status": "completed"
    },
    "tags": []
   },
   "source": [
    "What percentage of the \"Cabin\" column is Nan and how many unique values are present?"
   ]
  },
  {
   "cell_type": "code",
   "execution_count": 6,
   "id": "de855062",
   "metadata": {
    "execution": {
     "iopub.execute_input": "2022-06-29T16:44:51.744063Z",
     "iopub.status.busy": "2022-06-29T16:44:51.743109Z",
     "iopub.status.idle": "2022-06-29T16:44:51.750572Z",
     "shell.execute_reply": "2022-06-29T16:44:51.749177Z"
    },
    "papermill": {
     "duration": 0.021756,
     "end_time": "2022-06-29T16:44:51.753277",
     "exception": false,
     "start_time": "2022-06-29T16:44:51.731521",
     "status": "completed"
    },
    "tags": []
   },
   "outputs": [
    {
     "name": "stdout",
     "output_type": "stream",
     "text": [
      "0.7710437710437711\n",
      "147\n"
     ]
    }
   ],
   "source": [
    "print(sum(train_data['Cabin'].isna())/train_data.shape[0])\n",
    "print(train_data['Cabin'].nunique())"
   ]
  },
  {
   "cell_type": "markdown",
   "id": "9318f7bd",
   "metadata": {
    "papermill": {
     "duration": 0.010343,
     "end_time": "2022-06-29T16:44:51.774108",
     "exception": false,
     "start_time": "2022-06-29T16:44:51.763765",
     "status": "completed"
    },
    "tags": []
   },
   "source": [
    "Check for missing values in other columns"
   ]
  },
  {
   "cell_type": "code",
   "execution_count": 7,
   "id": "99e4cfec",
   "metadata": {
    "execution": {
     "iopub.execute_input": "2022-06-29T16:44:51.797180Z",
     "iopub.status.busy": "2022-06-29T16:44:51.796556Z",
     "iopub.status.idle": "2022-06-29T16:44:51.804790Z",
     "shell.execute_reply": "2022-06-29T16:44:51.803941Z"
    },
    "papermill": {
     "duration": 0.023166,
     "end_time": "2022-06-29T16:44:51.807545",
     "exception": false,
     "start_time": "2022-06-29T16:44:51.784379",
     "status": "completed"
    },
    "tags": []
   },
   "outputs": [
    {
     "name": "stdout",
     "output_type": "stream",
     "text": [
      "0.19865319865319866% of the column \"Age\" was missing (177 values)\n",
      "0.7710437710437711% of the column \"Cabin\" was missing (687 values)\n",
      "0.002244668911335578% of the column \"Embarked\" was missing (2 values)\n"
     ]
    }
   ],
   "source": [
    "for column in train_data.columns:\n",
    "    number_missing = sum(train_data[column].isna())\n",
    "    if number_missing:\n",
    "        percentage_missing = number_missing/train_data.shape[0]\n",
    "        print(f'{percentage_missing}% of the column \"{column}\" was missing ({number_missing} values)')"
   ]
  },
  {
   "cell_type": "markdown",
   "id": "ffc4a8cd",
   "metadata": {
    "papermill": {
     "duration": 0.009217,
     "end_time": "2022-06-29T16:44:51.827792",
     "exception": false,
     "start_time": "2022-06-29T16:44:51.818575",
     "status": "completed"
    },
    "tags": []
   },
   "source": [
    "We now generate some plots to see who is surviving."
   ]
  },
  {
   "cell_type": "code",
   "execution_count": 8,
   "id": "da1f8b8c",
   "metadata": {
    "execution": {
     "iopub.execute_input": "2022-06-29T16:44:51.849909Z",
     "iopub.status.busy": "2022-06-29T16:44:51.849527Z",
     "iopub.status.idle": "2022-06-29T16:44:52.418359Z",
     "shell.execute_reply": "2022-06-29T16:44:52.417366Z"
    },
    "papermill": {
     "duration": 0.582085,
     "end_time": "2022-06-29T16:44:52.420445",
     "exception": false,
     "start_time": "2022-06-29T16:44:51.838360",
     "status": "completed"
    },
    "tags": []
   },
   "outputs": [
    {
     "data": {
      "image/png": "[encoded data removed]",
      "text/plain": [
       "<Figure size 432x288 with 1 Axes>"
      ]
     },
     "metadata": {
      "needs_background": "light"
     },
     "output_type": "display_data"
    },
    {
     "data": {
      "image/png": "[encoded data removed]",
      "text/plain": [
       "<Figure size 432x288 with 1 Axes>"
      ]
     },
     "metadata": {
      "needs_background": "light"
     },
     "output_type": "display_data"
    },
    {
     "data": {
      "image/png": "[encoded data removed]",
      "text/plain": [
       "<Figure size 432x288 with 1 Axes>"
      ]
     },
     "metadata": {
      "needs_background": "light"
     },
     "output_type": "display_data"
    }
   ],
   "source": [
    "labels = train_data['Survived']\n",
    "ages = [*range(round(max(train_data['Age'])+1))]\n",
    "survivals = np.zeros((len(ages), 2))\n",
    "for ind in range(1, train_data.shape[0]):\n",
    "    try:\n",
    "        age = round(train_data['Age'][ind])\n",
    "    except:\n",
    "        continue # Skip missing values for now\n",
    "    survived = labels[ind]\n",
    "    survivals[age, 0] += 1\n",
    "    survivals[age, 1] += survived\n",
    "for ind in range(survivals.shape[0]):\n",
    "    if survivals[ind, 0] == 0:\n",
    "        survivals[ind, 0] = 1 # Cleaning up division by 0\n",
    "survival_rates = survivals[:, 1]/survivals[:, 0]\n",
    "plt.figure()\n",
    "plt.scatter(ages, survival_rates)\n",
    "plt.title('Survival Rate by Age')\n",
    "plt.xlabel('Age')\n",
    "plt.ylabel('Liklihood of Survival')\n",
    "plt.show()\n",
    "num_females = sum(train_data['Sex']=='female')\n",
    "num_males = sum(train_data['Sex']=='male')\n",
    "female_survivors = sum((train_data['Sex']=='female')*labels)\n",
    "male_survivors = sum((train_data['Sex']=='male')*labels)\n",
    "plt.figure()\n",
    "plt.bar(['male', 'female'], [male_survivors/num_males, female_survivors/num_females])\n",
    "plt.title('Survival Rate by Sex')\n",
    "plt.ylabel('Survival Rates')\n",
    "plt.show()\n",
    "num_pclass1 = sum(train_data['Pclass']==1)\n",
    "num_pclass2 = sum(train_data['Pclass']==2)\n",
    "num_pclass3 = sum(train_data['Pclass']==3)\n",
    "pclass1_survivors = sum((train_data['Pclass']==1)*labels)\n",
    "pclass2_survivors = sum((train_data['Pclass']==2)*labels)\n",
    "pclass3_survivors = sum((train_data['Pclass']==3)*labels)\n",
    "plt.figure()\n",
    "plt.bar(['Pclass=1', 'Pclass=2', 'Pclass=3'], [pclass1_survivors/num_pclass1, pclass2_survivors/num_pclass2, pclass3_survivors/num_pclass3])\n",
    "plt.title('Survival Rate by Pclass')\n",
    "plt.ylabel('Survival Rates')\n",
    "plt.show()"
   ]
  },
  {
   "cell_type": "markdown",
   "id": "302d0295",
   "metadata": {
    "papermill": {
     "duration": 0.009936,
     "end_time": "2022-06-29T16:44:52.441481",
     "exception": false,
     "start_time": "2022-06-29T16:44:52.431545",
     "status": "completed"
    },
    "tags": []
   },
   "source": [
    "We also check the total number of survivors to see if the classes in this dataset are unbalanced."
   ]
  },
  {
   "cell_type": "code",
   "execution_count": 9,
   "id": "06fc25ae",
   "metadata": {
    "execution": {
     "iopub.execute_input": "2022-06-29T16:44:52.465737Z",
     "iopub.status.busy": "2022-06-29T16:44:52.464755Z",
     "iopub.status.idle": "2022-06-29T16:44:52.471118Z",
     "shell.execute_reply": "2022-06-29T16:44:52.469923Z"
    },
    "papermill": {
     "duration": 0.02079,
     "end_time": "2022-06-29T16:44:52.473078",
     "exception": false,
     "start_time": "2022-06-29T16:44:52.452288",
     "status": "completed"
    },
    "tags": []
   },
   "outputs": [
    {
     "name": "stdout",
     "output_type": "stream",
     "text": [
      "Percentage Survived: 0.3838383838383838\n",
      "Percentage Deceased: 0.6161616161616161\n"
     ]
    }
   ],
   "source": [
    "print(f'Percentage Survived: {sum(labels)/len(labels)}')\n",
    "print(f'Percentage Deceased: {sum(labels==0)/len(labels)}')"
   ]
  },
  {
   "cell_type": "markdown",
   "id": "8c4f98b4",
   "metadata": {
    "papermill": {
     "duration": 0.010267,
     "end_time": "2022-06-29T16:44:52.494572",
     "exception": false,
     "start_time": "2022-06-29T16:44:52.484305",
     "status": "completed"
    },
    "tags": []
   },
   "source": [
    "This dataset is imbalanced, but not to the point where it should be a significant problem for us. Poking around the data we also notice that some passengers have titles, so we try to extract those and see what is present in the dataset. A title may be a signal of a high social class and therefore indicate survival. This effect should theoretically be taken care of by the \"Pclass\" but we try it anyway as the methodology used to generate that score is unclear. We keep only titles that occur more than once so as to avoid flukes."
   ]
  },
  {
   "cell_type": "code",
   "execution_count": 10,
   "id": "5db8b126",
   "metadata": {
    "execution": {
     "iopub.execute_input": "2022-06-29T16:44:52.517882Z",
     "iopub.status.busy": "2022-06-29T16:44:52.517240Z",
     "iopub.status.idle": "2022-06-29T16:44:52.530612Z",
     "shell.execute_reply": "2022-06-29T16:44:52.529505Z"
    },
    "papermill": {
     "duration": 0.027584,
     "end_time": "2022-06-29T16:44:52.532571",
     "exception": false,
     "start_time": "2022-06-29T16:44:52.504987",
     "status": "completed"
    },
    "tags": []
   },
   "outputs": [
    {
     "name": "stdout",
     "output_type": "stream",
     "text": [
      "['Mr', 'Mrs', 'Miss', 'Master', 'Don', 'Rev', 'Dr', 'Mme', 'Ms', 'Major', 'Lady', 'Sir', 'Mlle', 'Col', 'Capt', 'Countess', 'Jonkheer']\n"
     ]
    }
   ],
   "source": [
    "titles = []\n",
    "for ind in range(1, train_data.shape[0]):\n",
    "    match = re.search(r'\\s(\\S+?)\\.', train_data['Name'][ind])\n",
    "    if match:\n",
    "        if match[1] not in titles:\n",
    "            titles.append(match[1])\n",
    "print(titles)"
   ]
  },
  {
   "cell_type": "markdown",
   "id": "3abf5ea9",
   "metadata": {
    "papermill": {
     "duration": 0.010002,
     "end_time": "2022-06-29T16:44:52.552892",
     "exception": false,
     "start_time": "2022-06-29T16:44:52.542890",
     "status": "completed"
    },
    "tags": []
   },
   "source": [
    "We decide to map titles by category since some of these are pretty niche and unlikely to occur more than once."
   ]
  },
  {
   "cell_type": "code",
   "execution_count": 11,
   "id": "9868aeea",
   "metadata": {
    "execution": {
     "iopub.execute_input": "2022-06-29T16:44:52.575098Z",
     "iopub.status.busy": "2022-06-29T16:44:52.574572Z",
     "iopub.status.idle": "2022-06-29T16:44:52.580010Z",
     "shell.execute_reply": "2022-06-29T16:44:52.579368Z"
    },
    "papermill": {
     "duration": 0.018801,
     "end_time": "2022-06-29T16:44:52.581931",
     "exception": false,
     "start_time": "2022-06-29T16:44:52.563130",
     "status": "completed"
    },
    "tags": []
   },
   "outputs": [],
   "source": [
    "titles_mapping = {\n",
    "    'Mr':'Mr',\n",
    "    'Mrs':'Mrs',\n",
    "    'Miss':'Miss',\n",
    "    'Master':'Officer',\n",
    "    'Don':'Nobility',\n",
    "    'Rev':'Officer',\n",
    "    'Dr':'Officer',\n",
    "    'Mme':'Mrs',\n",
    "    'Ms':'Mrs',\n",
    "    'Major':'Officer',\n",
    "    'Lady':'Nobility',\n",
    "    'Sir':'Nobility',\n",
    "    'Mlle':'Miss',\n",
    "    'Col':'Officer',\n",
    "    'Capt':'Officer',\n",
    "    'Countess':'Nobility',\n",
    "    'Jonkheer':'Nobility'\n",
    "}"
   ]
  },
  {
   "cell_type": "markdown",
   "id": "2eaa6948",
   "metadata": {
    "papermill": {
     "duration": 0.009994,
     "end_time": "2022-06-29T16:44:52.602596",
     "exception": false,
     "start_time": "2022-06-29T16:44:52.592602",
     "status": "completed"
    },
    "tags": []
   },
   "source": [
    "We now check if any titles are present in the test set that aren't present in the training set."
   ]
  },
  {
   "cell_type": "code",
   "execution_count": 12,
   "id": "120df45a",
   "metadata": {
    "execution": {
     "iopub.execute_input": "2022-06-29T16:44:52.625452Z",
     "iopub.status.busy": "2022-06-29T16:44:52.624868Z",
     "iopub.status.idle": "2022-06-29T16:44:52.644254Z",
     "shell.execute_reply": "2022-06-29T16:44:52.642735Z"
    },
    "papermill": {
     "duration": 0.033709,
     "end_time": "2022-06-29T16:44:52.646419",
     "exception": false,
     "start_time": "2022-06-29T16:44:52.612710",
     "status": "completed"
    },
    "tags": []
   },
   "outputs": [
    {
     "name": "stdout",
     "output_type": "stream",
     "text": [
      "['Dona']\n"
     ]
    }
   ],
   "source": [
    "test_data = pd.read_csv('../input/titanic/test.csv', index_col='PassengerId')\n",
    "test_titles = []\n",
    "for ind in range(1, test_data.shape[0]):\n",
    "    match = re.search(r'\\s(\\S+?)\\.', test_data['Name'][891+ind])\n",
    "    if match:\n",
    "        if match[1] not in titles:\n",
    "            test_titles.append(match[1])\n",
    "print(test_titles)"
   ]
  },
  {
   "cell_type": "markdown",
   "id": "569908b9",
   "metadata": {
    "papermill": {
     "duration": 0.010305,
     "end_time": "2022-06-29T16:44:52.667504",
     "exception": false,
     "start_time": "2022-06-29T16:44:52.657199",
     "status": "completed"
    },
    "tags": []
   },
   "source": [
    "We now add this title to our mapping"
   ]
  },
  {
   "cell_type": "code",
   "execution_count": 13,
   "id": "08e41b5c",
   "metadata": {
    "execution": {
     "iopub.execute_input": "2022-06-29T16:44:52.691644Z",
     "iopub.status.busy": "2022-06-29T16:44:52.690347Z",
     "iopub.status.idle": "2022-06-29T16:44:52.696876Z",
     "shell.execute_reply": "2022-06-29T16:44:52.695719Z"
    },
    "papermill": {
     "duration": 0.02023,
     "end_time": "2022-06-29T16:44:52.698797",
     "exception": false,
     "start_time": "2022-06-29T16:44:52.678567",
     "status": "completed"
    },
    "tags": []
   },
   "outputs": [
    {
     "name": "stdout",
     "output_type": "stream",
     "text": [
      "['Mr', 'Mrs', 'Miss', 'Master', 'Don', 'Rev', 'Dr', 'Mme', 'Ms', 'Major', 'Lady', 'Sir', 'Mlle', 'Col', 'Capt', 'Countess', 'Jonkheer', 'Dona']\n"
     ]
    }
   ],
   "source": [
    "titles.extend(test_titles)\n",
    "titles_mapping['Dona'] = 'Nobility'\n",
    "print(titles)"
   ]
  },
  {
   "cell_type": "code",
   "execution_count": 14,
   "id": "a3c824bd",
   "metadata": {
    "execution": {
     "iopub.execute_input": "2022-06-29T16:44:52.720889Z",
     "iopub.status.busy": "2022-06-29T16:44:52.720517Z",
     "iopub.status.idle": "2022-06-29T16:44:52.749672Z",
     "shell.execute_reply": "2022-06-29T16:44:52.748711Z"
    },
    "papermill": {
     "duration": 0.042855,
     "end_time": "2022-06-29T16:44:52.752004",
     "exception": false,
     "start_time": "2022-06-29T16:44:52.709149",
     "status": "completed"
    },
    "tags": []
   },
   "outputs": [
    {
     "name": "stdout",
     "output_type": "stream",
     "text": [
      "title: Mr count: 517\n",
      "title: Mrs count: 125\n",
      "title: Miss count: 182\n",
      "title: Master count: 40\n",
      "title: Don count: 1\n",
      "title: Rev count: 6\n",
      "title: Dr count: 7\n",
      "title: Mme count: 1\n",
      "title: Ms count: 1\n",
      "title: Major count: 2\n",
      "title: Lady count: 1\n",
      "title: Sir count: 1\n",
      "title: Mlle count: 2\n",
      "title: Col count: 2\n",
      "title: Capt count: 1\n",
      "title: Countess count: 1\n",
      "title: Jonkheer count: 1\n",
      "title: Dona count: 0\n"
     ]
    }
   ],
   "source": [
    "for title in titles:\n",
    "    count = sum(train_data['Name'].str.contains(fr'\\s{title}\\.').astype(int))\n",
    "    print(f'title: {title} count: {count}')"
   ]
  },
  {
   "cell_type": "markdown",
   "id": "e9f6bcca",
   "metadata": {
    "papermill": {
     "duration": 0.010217,
     "end_time": "2022-06-29T16:44:52.772842",
     "exception": false,
     "start_time": "2022-06-29T16:44:52.762625",
     "status": "completed"
    },
    "tags": []
   },
   "source": [
    "# Creating a Pipeline"
   ]
  },
  {
   "cell_type": "markdown",
   "id": "33dcf6c1",
   "metadata": {
    "papermill": {
     "duration": 0.010392,
     "end_time": "2022-06-29T16:44:52.794189",
     "exception": false,
     "start_time": "2022-06-29T16:44:52.783797",
     "status": "completed"
    },
    "tags": []
   },
   "source": [
    "The most useful part of the Cabin number is likely to be the first letter, which denotes which deck the passengers cabin was on. However, the number may also be useful as it is correlated with the location of the cabin within the deck and the location of the passengers cabin may determine their ability to escape during the sinking. Therefore, we break the \"Cabin\" column into two columns, a categorical column for the deck of the passenger's cabin and a numerical column for the number of the passenger's cabin. The ticket number doesn't seem to have any useful information so we drop it."
   ]
  },
  {
   "cell_type": "code",
   "execution_count": 15,
   "id": "bf3d0c81",
   "metadata": {
    "execution": {
     "iopub.execute_input": "2022-06-29T16:44:52.816732Z",
     "iopub.status.busy": "2022-06-29T16:44:52.816306Z",
     "iopub.status.idle": "2022-06-29T16:44:52.824174Z",
     "shell.execute_reply": "2022-06-29T16:44:52.823168Z"
    },
    "papermill": {
     "duration": 0.021484,
     "end_time": "2022-06-29T16:44:52.826127",
     "exception": false,
     "start_time": "2022-06-29T16:44:52.804643",
     "status": "completed"
    },
    "tags": []
   },
   "outputs": [
    {
     "data": {
      "text/plain": [
       "array([nan, 'C', 'E', 'G', 'D', 'A', 'B', 'F', 'T'], dtype=object)"
      ]
     },
     "execution_count": 15,
     "metadata": {},
     "output_type": "execute_result"
    }
   ],
   "source": [
    "# Checking which cabin levels are present in our dataset\n",
    "cabin_levels = train_data['Cabin'].str.slice(stop=1)\n",
    "cabin_levels.unique()"
   ]
  },
  {
   "cell_type": "code",
   "execution_count": 16,
   "id": "9ff0c2c3",
   "metadata": {
    "execution": {
     "iopub.execute_input": "2022-06-29T16:44:52.850411Z",
     "iopub.status.busy": "2022-06-29T16:44:52.849996Z",
     "iopub.status.idle": "2022-06-29T16:44:52.861691Z",
     "shell.execute_reply": "2022-06-29T16:44:52.860724Z"
    },
    "papermill": {
     "duration": 0.02632,
     "end_time": "2022-06-29T16:44:52.863574",
     "exception": false,
     "start_time": "2022-06-29T16:44:52.837254",
     "status": "completed"
    },
    "tags": []
   },
   "outputs": [],
   "source": [
    "def process_data(dataset, mean_cabin_number=None, test=False):\n",
    "    ds = dataset.copy()\n",
    "    for title in titles: # One hot encoding titles\n",
    "        if titles_mapping[title] in ds.columns:\n",
    "            ds[titles_mapping[title]] += ds['Name'].str.contains(fr'\\s{title}\\.').astype(int)\n",
    "        else:\n",
    "            ds[titles_mapping[title]] = ds['Name'].str.contains(fr'\\s{title}\\.').astype(int)\n",
    "    for level in cabin_levels.unique()[1:]:\n",
    "        ds[f'{level}_Level'] = ds['Cabin'].str.startswith(f'{level}') & ~ds['Cabin'].isna()\n",
    "        ds[f'{level}_Level'] = ds[f'{level}_Level'].astype('int')\n",
    "    ds['CabinNumber'] = ds['Cabin'].str.extract(r'(\\d+)').astype('float')\n",
    "    ds['Sex'] = (ds['Sex']=='male').astype('int')\n",
    "    ds = pd.get_dummies(ds, columns=['Embarked', 'Pclass'], prefix=['Embarked', 'Pclass'])\n",
    "    if test:\n",
    "        ds['CabinNumber'].fillna(mean_cabin_number, inplace=True) # Using mean imputation for the cabin number\n",
    "        ds['Age'].fillna(train_data['Age'].mean(), inplace=True) # Using mean imputation for the age\n",
    "        ds.drop(['Cabin', 'Name', 'Ticket'], axis=1, inplace=True)\n",
    "        return ds\n",
    "    else:\n",
    "        mean_cabin_number = ds['CabinNumber'].mean()\n",
    "        ds['CabinNumber'].fillna(mean_cabin_number, inplace=True) # Using mean imputation for the cabin number\n",
    "        ds['Age'].fillna(ds['Age'].mean(), inplace=True) # Using mean imputation for the age\n",
    "        ds.drop(['Cabin', 'Name', 'Survived', 'Ticket'], axis=1, inplace=True)\n",
    "        # Separating out the labels\n",
    "        labels = dataset['Survived'].copy()\n",
    "        return ds, labels, mean_cabin_number"
   ]
  },
  {
   "cell_type": "markdown",
   "id": "73f6cca8",
   "metadata": {
    "papermill": {
     "duration": 0.010425,
     "end_time": "2022-06-29T16:44:52.885988",
     "exception": false,
     "start_time": "2022-06-29T16:44:52.875563",
     "status": "completed"
    },
    "tags": []
   },
   "source": [
    "Confirming that our changes work as expected"
   ]
  },
  {
   "cell_type": "code",
   "execution_count": 17,
   "id": "6c12ac89",
   "metadata": {
    "execution": {
     "iopub.execute_input": "2022-06-29T16:44:52.909240Z",
     "iopub.status.busy": "2022-06-29T16:44:52.908661Z",
     "iopub.status.idle": "2022-06-29T16:44:52.987107Z",
     "shell.execute_reply": "2022-06-29T16:44:52.986144Z"
    },
    "papermill": {
     "duration": 0.092437,
     "end_time": "2022-06-29T16:44:52.989272",
     "exception": false,
     "start_time": "2022-06-29T16:44:52.896835",
     "status": "completed"
    },
    "tags": []
   },
   "outputs": [
    {
     "data": {
      "text/html": [
       "<div>\n",
       "<style scoped>\n",
       "    .dataframe tbody tr th:only-of-type {\n",
       "        vertical-align: middle;\n",
       "    }\n",
       "\n",
       "    .dataframe tbody tr th {\n",
       "        vertical-align: top;\n",
       "    }\n",
       "\n",
       "    .dataframe thead th {\n",
       "        text-align: right;\n",
       "    }\n",
       "</style>\n",
       "<table border=\"1\" class=\"dataframe\">\n",
       "  <thead>\n",
       "    <tr style=\"text-align: right;\">\n",
       "      <th></th>\n",
       "      <th>Sex</th>\n",
       "      <th>Age</th>\n",
       "      <th>SibSp</th>\n",
       "      <th>Parch</th>\n",
       "      <th>Fare</th>\n",
       "      <th>Mr</th>\n",
       "      <th>Mrs</th>\n",
       "      <th>Miss</th>\n",
       "      <th>Officer</th>\n",
       "      <th>Nobility</th>\n",
       "      <th>...</th>\n",
       "      <th>B_Level</th>\n",
       "      <th>F_Level</th>\n",
       "      <th>T_Level</th>\n",
       "      <th>CabinNumber</th>\n",
       "      <th>Embarked_C</th>\n",
       "      <th>Embarked_Q</th>\n",
       "      <th>Embarked_S</th>\n",
       "      <th>Pclass_1</th>\n",
       "      <th>Pclass_2</th>\n",
       "      <th>Pclass_3</th>\n",
       "    </tr>\n",
       "    <tr>\n",
       "      <th>PassengerId</th>\n",
       "      <th></th>\n",
       "      <th></th>\n",
       "      <th></th>\n",
       "      <th></th>\n",
       "      <th></th>\n",
       "      <th></th>\n",
       "      <th></th>\n",
       "      <th></th>\n",
       "      <th></th>\n",
       "      <th></th>\n",
       "      <th></th>\n",
       "      <th></th>\n",
       "      <th></th>\n",
       "      <th></th>\n",
       "      <th></th>\n",
       "      <th></th>\n",
       "      <th></th>\n",
       "      <th></th>\n",
       "      <th></th>\n",
       "      <th></th>\n",
       "      <th></th>\n",
       "    </tr>\n",
       "  </thead>\n",
       "  <tbody>\n",
       "    <tr>\n",
       "      <th>1</th>\n",
       "      <td>1</td>\n",
       "      <td>22.0</td>\n",
       "      <td>1</td>\n",
       "      <td>0</td>\n",
       "      <td>7.2500</td>\n",
       "      <td>1</td>\n",
       "      <td>0</td>\n",
       "      <td>0</td>\n",
       "      <td>0</td>\n",
       "      <td>0</td>\n",
       "      <td>...</td>\n",
       "      <td>0</td>\n",
       "      <td>0</td>\n",
       "      <td>0</td>\n",
       "      <td>50.49</td>\n",
       "      <td>0</td>\n",
       "      <td>0</td>\n",
       "      <td>1</td>\n",
       "      <td>0</td>\n",
       "      <td>0</td>\n",
       "      <td>1</td>\n",
       "    </tr>\n",
       "    <tr>\n",
       "      <th>2</th>\n",
       "      <td>0</td>\n",
       "      <td>38.0</td>\n",
       "      <td>1</td>\n",
       "      <td>0</td>\n",
       "      <td>71.2833</td>\n",
       "      <td>0</td>\n",
       "      <td>1</td>\n",
       "      <td>0</td>\n",
       "      <td>0</td>\n",
       "      <td>0</td>\n",
       "      <td>...</td>\n",
       "      <td>0</td>\n",
       "      <td>0</td>\n",
       "      <td>0</td>\n",
       "      <td>85.00</td>\n",
       "      <td>1</td>\n",
       "      <td>0</td>\n",
       "      <td>0</td>\n",
       "      <td>1</td>\n",
       "      <td>0</td>\n",
       "      <td>0</td>\n",
       "    </tr>\n",
       "    <tr>\n",
       "      <th>3</th>\n",
       "      <td>0</td>\n",
       "      <td>26.0</td>\n",
       "      <td>0</td>\n",
       "      <td>0</td>\n",
       "      <td>7.9250</td>\n",
       "      <td>0</td>\n",
       "      <td>0</td>\n",
       "      <td>1</td>\n",
       "      <td>0</td>\n",
       "      <td>0</td>\n",
       "      <td>...</td>\n",
       "      <td>0</td>\n",
       "      <td>0</td>\n",
       "      <td>0</td>\n",
       "      <td>50.49</td>\n",
       "      <td>0</td>\n",
       "      <td>0</td>\n",
       "      <td>1</td>\n",
       "      <td>0</td>\n",
       "      <td>0</td>\n",
       "      <td>1</td>\n",
       "    </tr>\n",
       "    <tr>\n",
       "      <th>4</th>\n",
       "      <td>0</td>\n",
       "      <td>35.0</td>\n",
       "      <td>1</td>\n",
       "      <td>0</td>\n",
       "      <td>53.1000</td>\n",
       "      <td>0</td>\n",
       "      <td>1</td>\n",
       "      <td>0</td>\n",
       "      <td>0</td>\n",
       "      <td>0</td>\n",
       "      <td>...</td>\n",
       "      <td>0</td>\n",
       "      <td>0</td>\n",
       "      <td>0</td>\n",
       "      <td>123.00</td>\n",
       "      <td>0</td>\n",
       "      <td>0</td>\n",
       "      <td>1</td>\n",
       "      <td>1</td>\n",
       "      <td>0</td>\n",
       "      <td>0</td>\n",
       "    </tr>\n",
       "    <tr>\n",
       "      <th>5</th>\n",
       "      <td>1</td>\n",
       "      <td>35.0</td>\n",
       "      <td>0</td>\n",
       "      <td>0</td>\n",
       "      <td>8.0500</td>\n",
       "      <td>1</td>\n",
       "      <td>0</td>\n",
       "      <td>0</td>\n",
       "      <td>0</td>\n",
       "      <td>0</td>\n",
       "      <td>...</td>\n",
       "      <td>0</td>\n",
       "      <td>0</td>\n",
       "      <td>0</td>\n",
       "      <td>50.49</td>\n",
       "      <td>0</td>\n",
       "      <td>0</td>\n",
       "      <td>1</td>\n",
       "      <td>0</td>\n",
       "      <td>0</td>\n",
       "      <td>1</td>\n",
       "    </tr>\n",
       "  </tbody>\n",
       "</table>\n",
       "<p>5 rows × 25 columns</p>\n",
       "</div>"
      ],
      "text/plain": [
       "             Sex   Age  SibSp  Parch     Fare  Mr  Mrs  Miss  Officer  \\\n",
       "PassengerId                                                             \n",
       "1              1  22.0      1      0   7.2500   1    0     0        0   \n",
       "2              0  38.0      1      0  71.2833   0    1     0        0   \n",
       "3              0  26.0      0      0   7.9250   0    0     1        0   \n",
       "4              0  35.0      1      0  53.1000   0    1     0        0   \n",
       "5              1  35.0      0      0   8.0500   1    0     0        0   \n",
       "\n",
       "             Nobility  ...  B_Level  F_Level  T_Level  CabinNumber  \\\n",
       "PassengerId            ...                                           \n",
       "1                   0  ...        0        0        0        50.49   \n",
       "2                   0  ...        0        0        0        85.00   \n",
       "3                   0  ...        0        0        0        50.49   \n",
       "4                   0  ...        0        0        0       123.00   \n",
       "5                   0  ...        0        0        0        50.49   \n",
       "\n",
       "             Embarked_C  Embarked_Q  Embarked_S  Pclass_1  Pclass_2  Pclass_3  \n",
       "PassengerId                                                                    \n",
       "1                     0           0           1         0         0         1  \n",
       "2                     1           0           0         1         0         0  \n",
       "3                     0           0           1         0         0         1  \n",
       "4                     0           0           1         1         0         0  \n",
       "5                     0           0           1         0         0         1  \n",
       "\n",
       "[5 rows x 25 columns]"
      ]
     },
     "execution_count": 17,
     "metadata": {},
     "output_type": "execute_result"
    }
   ],
   "source": [
    "train_ds, labels, mean_cabin_number = process_data(train_data)\n",
    "train_ds.head()"
   ]
  },
  {
   "cell_type": "code",
   "execution_count": 18,
   "id": "d6b67c7e",
   "metadata": {
    "execution": {
     "iopub.execute_input": "2022-06-29T16:44:53.015242Z",
     "iopub.status.busy": "2022-06-29T16:44:53.014835Z",
     "iopub.status.idle": "2022-06-29T16:44:53.086965Z",
     "shell.execute_reply": "2022-06-29T16:44:53.085968Z"
    },
    "papermill": {
     "duration": 0.088636,
     "end_time": "2022-06-29T16:44:53.089194",
     "exception": false,
     "start_time": "2022-06-29T16:44:53.000558",
     "status": "completed"
    },
    "tags": []
   },
   "outputs": [
    {
     "data": {
      "text/html": [
       "<div>\n",
       "<style scoped>\n",
       "    .dataframe tbody tr th:only-of-type {\n",
       "        vertical-align: middle;\n",
       "    }\n",
       "\n",
       "    .dataframe tbody tr th {\n",
       "        vertical-align: top;\n",
       "    }\n",
       "\n",
       "    .dataframe thead th {\n",
       "        text-align: right;\n",
       "    }\n",
       "</style>\n",
       "<table border=\"1\" class=\"dataframe\">\n",
       "  <thead>\n",
       "    <tr style=\"text-align: right;\">\n",
       "      <th></th>\n",
       "      <th>Sex</th>\n",
       "      <th>Age</th>\n",
       "      <th>SibSp</th>\n",
       "      <th>Parch</th>\n",
       "      <th>Fare</th>\n",
       "      <th>Mr</th>\n",
       "      <th>Mrs</th>\n",
       "      <th>Miss</th>\n",
       "      <th>Officer</th>\n",
       "      <th>Nobility</th>\n",
       "      <th>...</th>\n",
       "      <th>B_Level</th>\n",
       "      <th>F_Level</th>\n",
       "      <th>T_Level</th>\n",
       "      <th>CabinNumber</th>\n",
       "      <th>Embarked_C</th>\n",
       "      <th>Embarked_Q</th>\n",
       "      <th>Embarked_S</th>\n",
       "      <th>Pclass_1</th>\n",
       "      <th>Pclass_2</th>\n",
       "      <th>Pclass_3</th>\n",
       "    </tr>\n",
       "  </thead>\n",
       "  <tbody>\n",
       "    <tr>\n",
       "      <th>count</th>\n",
       "      <td>891.000000</td>\n",
       "      <td>891.000000</td>\n",
       "      <td>891.000000</td>\n",
       "      <td>891.000000</td>\n",
       "      <td>891.000000</td>\n",
       "      <td>891.000000</td>\n",
       "      <td>891.000000</td>\n",
       "      <td>891.000000</td>\n",
       "      <td>891.000000</td>\n",
       "      <td>891.000000</td>\n",
       "      <td>...</td>\n",
       "      <td>891.000000</td>\n",
       "      <td>891.000000</td>\n",
       "      <td>891.000000</td>\n",
       "      <td>891.000000</td>\n",
       "      <td>891.000000</td>\n",
       "      <td>891.000000</td>\n",
       "      <td>891.000000</td>\n",
       "      <td>891.000000</td>\n",
       "      <td>891.000000</td>\n",
       "      <td>891.000000</td>\n",
       "    </tr>\n",
       "    <tr>\n",
       "      <th>mean</th>\n",
       "      <td>0.647587</td>\n",
       "      <td>29.699118</td>\n",
       "      <td>0.523008</td>\n",
       "      <td>0.381594</td>\n",
       "      <td>32.204208</td>\n",
       "      <td>0.580247</td>\n",
       "      <td>0.142536</td>\n",
       "      <td>0.206510</td>\n",
       "      <td>0.065095</td>\n",
       "      <td>0.005612</td>\n",
       "      <td>...</td>\n",
       "      <td>0.052750</td>\n",
       "      <td>0.014590</td>\n",
       "      <td>0.001122</td>\n",
       "      <td>50.490000</td>\n",
       "      <td>0.188552</td>\n",
       "      <td>0.086420</td>\n",
       "      <td>0.722783</td>\n",
       "      <td>0.242424</td>\n",
       "      <td>0.206510</td>\n",
       "      <td>0.551066</td>\n",
       "    </tr>\n",
       "    <tr>\n",
       "      <th>std</th>\n",
       "      <td>0.477990</td>\n",
       "      <td>13.002015</td>\n",
       "      <td>1.102743</td>\n",
       "      <td>0.806057</td>\n",
       "      <td>49.693429</td>\n",
       "      <td>0.493796</td>\n",
       "      <td>0.349796</td>\n",
       "      <td>0.405028</td>\n",
       "      <td>0.246833</td>\n",
       "      <td>0.074743</td>\n",
       "      <td>...</td>\n",
       "      <td>0.223659</td>\n",
       "      <td>0.119973</td>\n",
       "      <td>0.033501</td>\n",
       "      <td>16.736825</td>\n",
       "      <td>0.391372</td>\n",
       "      <td>0.281141</td>\n",
       "      <td>0.447876</td>\n",
       "      <td>0.428790</td>\n",
       "      <td>0.405028</td>\n",
       "      <td>0.497665</td>\n",
       "    </tr>\n",
       "    <tr>\n",
       "      <th>min</th>\n",
       "      <td>0.000000</td>\n",
       "      <td>0.420000</td>\n",
       "      <td>0.000000</td>\n",
       "      <td>0.000000</td>\n",
       "      <td>0.000000</td>\n",
       "      <td>0.000000</td>\n",
       "      <td>0.000000</td>\n",
       "      <td>0.000000</td>\n",
       "      <td>0.000000</td>\n",
       "      <td>0.000000</td>\n",
       "      <td>...</td>\n",
       "      <td>0.000000</td>\n",
       "      <td>0.000000</td>\n",
       "      <td>0.000000</td>\n",
       "      <td>2.000000</td>\n",
       "      <td>0.000000</td>\n",
       "      <td>0.000000</td>\n",
       "      <td>0.000000</td>\n",
       "      <td>0.000000</td>\n",
       "      <td>0.000000</td>\n",
       "      <td>0.000000</td>\n",
       "    </tr>\n",
       "    <tr>\n",
       "      <th>25%</th>\n",
       "      <td>0.000000</td>\n",
       "      <td>22.000000</td>\n",
       "      <td>0.000000</td>\n",
       "      <td>0.000000</td>\n",
       "      <td>7.910400</td>\n",
       "      <td>0.000000</td>\n",
       "      <td>0.000000</td>\n",
       "      <td>0.000000</td>\n",
       "      <td>0.000000</td>\n",
       "      <td>0.000000</td>\n",
       "      <td>...</td>\n",
       "      <td>0.000000</td>\n",
       "      <td>0.000000</td>\n",
       "      <td>0.000000</td>\n",
       "      <td>50.490000</td>\n",
       "      <td>0.000000</td>\n",
       "      <td>0.000000</td>\n",
       "      <td>0.000000</td>\n",
       "      <td>0.000000</td>\n",
       "      <td>0.000000</td>\n",
       "      <td>0.000000</td>\n",
       "    </tr>\n",
       "    <tr>\n",
       "      <th>50%</th>\n",
       "      <td>1.000000</td>\n",
       "      <td>29.699118</td>\n",
       "      <td>0.000000</td>\n",
       "      <td>0.000000</td>\n",
       "      <td>14.454200</td>\n",
       "      <td>1.000000</td>\n",
       "      <td>0.000000</td>\n",
       "      <td>0.000000</td>\n",
       "      <td>0.000000</td>\n",
       "      <td>0.000000</td>\n",
       "      <td>...</td>\n",
       "      <td>0.000000</td>\n",
       "      <td>0.000000</td>\n",
       "      <td>0.000000</td>\n",
       "      <td>50.490000</td>\n",
       "      <td>0.000000</td>\n",
       "      <td>0.000000</td>\n",
       "      <td>1.000000</td>\n",
       "      <td>0.000000</td>\n",
       "      <td>0.000000</td>\n",
       "      <td>1.000000</td>\n",
       "    </tr>\n",
       "    <tr>\n",
       "      <th>75%</th>\n",
       "      <td>1.000000</td>\n",
       "      <td>35.000000</td>\n",
       "      <td>1.000000</td>\n",
       "      <td>0.000000</td>\n",
       "      <td>31.000000</td>\n",
       "      <td>1.000000</td>\n",
       "      <td>0.000000</td>\n",
       "      <td>0.000000</td>\n",
       "      <td>0.000000</td>\n",
       "      <td>0.000000</td>\n",
       "      <td>...</td>\n",
       "      <td>0.000000</td>\n",
       "      <td>0.000000</td>\n",
       "      <td>0.000000</td>\n",
       "      <td>50.490000</td>\n",
       "      <td>0.000000</td>\n",
       "      <td>0.000000</td>\n",
       "      <td>1.000000</td>\n",
       "      <td>0.000000</td>\n",
       "      <td>0.000000</td>\n",
       "      <td>1.000000</td>\n",
       "    </tr>\n",
       "    <tr>\n",
       "      <th>max</th>\n",
       "      <td>1.000000</td>\n",
       "      <td>80.000000</td>\n",
       "      <td>8.000000</td>\n",
       "      <td>6.000000</td>\n",
       "      <td>512.329200</td>\n",
       "      <td>1.000000</td>\n",
       "      <td>1.000000</td>\n",
       "      <td>1.000000</td>\n",
       "      <td>1.000000</td>\n",
       "      <td>1.000000</td>\n",
       "      <td>...</td>\n",
       "      <td>1.000000</td>\n",
       "      <td>1.000000</td>\n",
       "      <td>1.000000</td>\n",
       "      <td>148.000000</td>\n",
       "      <td>1.000000</td>\n",
       "      <td>1.000000</td>\n",
       "      <td>1.000000</td>\n",
       "      <td>1.000000</td>\n",
       "      <td>1.000000</td>\n",
       "      <td>1.000000</td>\n",
       "    </tr>\n",
       "  </tbody>\n",
       "</table>\n",
       "<p>8 rows × 25 columns</p>\n",
       "</div>"
      ],
      "text/plain": [
       "              Sex         Age       SibSp       Parch        Fare          Mr  \\\n",
       "count  891.000000  891.000000  891.000000  891.000000  891.000000  891.000000   \n",
       "mean     0.647587   29.699118    0.523008    0.381594   32.204208    0.580247   \n",
       "std      0.477990   13.002015    1.102743    0.806057   49.693429    0.493796   \n",
       "min      0.000000    0.420000    0.000000    0.000000    0.000000    0.000000   \n",
       "25%      0.000000   22.000000    0.000000    0.000000    7.910400    0.000000   \n",
       "50%      1.000000   29.699118    0.000000    0.000000   14.454200    1.000000   \n",
       "75%      1.000000   35.000000    1.000000    0.000000   31.000000    1.000000   \n",
       "max      1.000000   80.000000    8.000000    6.000000  512.329200    1.000000   \n",
       "\n",
       "              Mrs        Miss     Officer    Nobility  ...     B_Level  \\\n",
       "count  891.000000  891.000000  891.000000  891.000000  ...  891.000000   \n",
       "mean     0.142536    0.206510    0.065095    0.005612  ...    0.052750   \n",
       "std      0.349796    0.405028    0.246833    0.074743  ...    0.223659   \n",
       "min      0.000000    0.000000    0.000000    0.000000  ...    0.000000   \n",
       "25%      0.000000    0.000000    0.000000    0.000000  ...    0.000000   \n",
       "50%      0.000000    0.000000    0.000000    0.000000  ...    0.000000   \n",
       "75%      0.000000    0.000000    0.000000    0.000000  ...    0.000000   \n",
       "max      1.000000    1.000000    1.000000    1.000000  ...    1.000000   \n",
       "\n",
       "          F_Level     T_Level  CabinNumber  Embarked_C  Embarked_Q  \\\n",
       "count  891.000000  891.000000   891.000000  891.000000  891.000000   \n",
       "mean     0.014590    0.001122    50.490000    0.188552    0.086420   \n",
       "std      0.119973    0.033501    16.736825    0.391372    0.281141   \n",
       "min      0.000000    0.000000     2.000000    0.000000    0.000000   \n",
       "25%      0.000000    0.000000    50.490000    0.000000    0.000000   \n",
       "50%      0.000000    0.000000    50.490000    0.000000    0.000000   \n",
       "75%      0.000000    0.000000    50.490000    0.000000    0.000000   \n",
       "max      1.000000    1.000000   148.000000    1.000000    1.000000   \n",
       "\n",
       "       Embarked_S    Pclass_1    Pclass_2    Pclass_3  \n",
       "count  891.000000  891.000000  891.000000  891.000000  \n",
       "mean     0.722783    0.242424    0.206510    0.551066  \n",
       "std      0.447876    0.428790    0.405028    0.497665  \n",
       "min      0.000000    0.000000    0.000000    0.000000  \n",
       "25%      0.000000    0.000000    0.000000    0.000000  \n",
       "50%      1.000000    0.000000    0.000000    1.000000  \n",
       "75%      1.000000    0.000000    0.000000    1.000000  \n",
       "max      1.000000    1.000000    1.000000    1.000000  \n",
       "\n",
       "[8 rows x 25 columns]"
      ]
     },
     "execution_count": 18,
     "metadata": {},
     "output_type": "execute_result"
    }
   ],
   "source": [
    "train_ds.describe()"
   ]
  },
  {
   "cell_type": "markdown",
   "id": "74a18b16",
   "metadata": {
    "papermill": {
     "duration": 0.011939,
     "end_time": "2022-06-29T16:44:53.113123",
     "exception": false,
     "start_time": "2022-06-29T16:44:53.101184",
     "status": "completed"
    },
    "tags": []
   },
   "source": [
    "We now use a random forest classifier to find the most important features and reduce the size of the dataset"
   ]
  },
  {
   "cell_type": "code",
   "execution_count": 19,
   "id": "106cf4cb",
   "metadata": {
    "execution": {
     "iopub.execute_input": "2022-06-29T16:44:53.139012Z",
     "iopub.status.busy": "2022-06-29T16:44:53.138614Z",
     "iopub.status.idle": "2022-06-29T16:44:53.602433Z",
     "shell.execute_reply": "2022-06-29T16:44:53.601688Z"
    },
    "papermill": {
     "duration": 0.478801,
     "end_time": "2022-06-29T16:44:53.604062",
     "exception": false,
     "start_time": "2022-06-29T16:44:53.125261",
     "status": "completed"
    },
    "tags": []
   },
   "outputs": [
    {
     "data": {
      "image/png": "[encoded data removed]",
      "text/plain": [
       "<Figure size 432x288 with 1 Axes>"
      ]
     },
     "metadata": {
      "needs_background": "light"
     },
     "output_type": "display_data"
    }
   ],
   "source": [
    "rf = RandomForestClassifier()\n",
    "rf.fit(train_ds, labels)\n",
    "plt.figure()\n",
    "plt.barh(train_ds.columns, rf.feature_importances_)\n",
    "plt.show()"
   ]
  },
  {
   "cell_type": "markdown",
   "id": "06f53dea",
   "metadata": {
    "papermill": {
     "duration": 0.011312,
     "end_time": "2022-06-29T16:44:53.627807",
     "exception": false,
     "start_time": "2022-06-29T16:44:53.616495",
     "status": "completed"
    },
    "tags": []
   },
   "source": [
    "From this we decide the use the 10 most predictive features, which are more significant than the rest"
   ]
  },
  {
   "cell_type": "code",
   "execution_count": 20,
   "id": "3c1a0e69",
   "metadata": {
    "execution": {
     "iopub.execute_input": "2022-06-29T16:44:53.653428Z",
     "iopub.status.busy": "2022-06-29T16:44:53.652774Z",
     "iopub.status.idle": "2022-06-29T16:44:53.666602Z",
     "shell.execute_reply": "2022-06-29T16:44:53.665614Z"
    },
    "papermill": {
     "duration": 0.029084,
     "end_time": "2022-06-29T16:44:53.668854",
     "exception": false,
     "start_time": "2022-06-29T16:44:53.639770",
     "status": "completed"
    },
    "tags": []
   },
   "outputs": [],
   "source": [
    "important_columns = train_ds.columns[np.argsort(rf.feature_importances_)][-10:]\n",
    "def refine_ds(ds):\n",
    "    return ds[important_columns].copy()"
   ]
  },
  {
   "cell_type": "code",
   "execution_count": 21,
   "id": "9a22847f",
   "metadata": {
    "execution": {
     "iopub.execute_input": "2022-06-29T16:44:53.696414Z",
     "iopub.status.busy": "2022-06-29T16:44:53.695970Z",
     "iopub.status.idle": "2022-06-29T16:44:53.710109Z",
     "shell.execute_reply": "2022-06-29T16:44:53.709454Z"
    },
    "papermill": {
     "duration": 0.030011,
     "end_time": "2022-06-29T16:44:53.712145",
     "exception": false,
     "start_time": "2022-06-29T16:44:53.682134",
     "status": "completed"
    },
    "tags": []
   },
   "outputs": [
    {
     "data": {
      "text/html": [
       "<div>\n",
       "<style scoped>\n",
       "    .dataframe tbody tr th:only-of-type {\n",
       "        vertical-align: middle;\n",
       "    }\n",
       "\n",
       "    .dataframe tbody tr th {\n",
       "        vertical-align: top;\n",
       "    }\n",
       "\n",
       "    .dataframe thead th {\n",
       "        text-align: right;\n",
       "    }\n",
       "</style>\n",
       "<table border=\"1\" class=\"dataframe\">\n",
       "  <thead>\n",
       "    <tr style=\"text-align: right;\">\n",
       "      <th></th>\n",
       "      <th>Parch</th>\n",
       "      <th>Miss</th>\n",
       "      <th>Mrs</th>\n",
       "      <th>Pclass_3</th>\n",
       "      <th>SibSp</th>\n",
       "      <th>CabinNumber</th>\n",
       "      <th>Sex</th>\n",
       "      <th>Mr</th>\n",
       "      <th>Fare</th>\n",
       "      <th>Age</th>\n",
       "    </tr>\n",
       "    <tr>\n",
       "      <th>PassengerId</th>\n",
       "      <th></th>\n",
       "      <th></th>\n",
       "      <th></th>\n",
       "      <th></th>\n",
       "      <th></th>\n",
       "      <th></th>\n",
       "      <th></th>\n",
       "      <th></th>\n",
       "      <th></th>\n",
       "      <th></th>\n",
       "    </tr>\n",
       "  </thead>\n",
       "  <tbody>\n",
       "    <tr>\n",
       "      <th>1</th>\n",
       "      <td>0</td>\n",
       "      <td>0</td>\n",
       "      <td>0</td>\n",
       "      <td>1</td>\n",
       "      <td>1</td>\n",
       "      <td>50.49</td>\n",
       "      <td>1</td>\n",
       "      <td>1</td>\n",
       "      <td>7.2500</td>\n",
       "      <td>22.0</td>\n",
       "    </tr>\n",
       "    <tr>\n",
       "      <th>2</th>\n",
       "      <td>0</td>\n",
       "      <td>0</td>\n",
       "      <td>1</td>\n",
       "      <td>0</td>\n",
       "      <td>1</td>\n",
       "      <td>85.00</td>\n",
       "      <td>0</td>\n",
       "      <td>0</td>\n",
       "      <td>71.2833</td>\n",
       "      <td>38.0</td>\n",
       "    </tr>\n",
       "    <tr>\n",
       "      <th>3</th>\n",
       "      <td>0</td>\n",
       "      <td>1</td>\n",
       "      <td>0</td>\n",
       "      <td>1</td>\n",
       "      <td>0</td>\n",
       "      <td>50.49</td>\n",
       "      <td>0</td>\n",
       "      <td>0</td>\n",
       "      <td>7.9250</td>\n",
       "      <td>26.0</td>\n",
       "    </tr>\n",
       "    <tr>\n",
       "      <th>4</th>\n",
       "      <td>0</td>\n",
       "      <td>0</td>\n",
       "      <td>1</td>\n",
       "      <td>0</td>\n",
       "      <td>1</td>\n",
       "      <td>123.00</td>\n",
       "      <td>0</td>\n",
       "      <td>0</td>\n",
       "      <td>53.1000</td>\n",
       "      <td>35.0</td>\n",
       "    </tr>\n",
       "    <tr>\n",
       "      <th>5</th>\n",
       "      <td>0</td>\n",
       "      <td>0</td>\n",
       "      <td>0</td>\n",
       "      <td>1</td>\n",
       "      <td>0</td>\n",
       "      <td>50.49</td>\n",
       "      <td>1</td>\n",
       "      <td>1</td>\n",
       "      <td>8.0500</td>\n",
       "      <td>35.0</td>\n",
       "    </tr>\n",
       "  </tbody>\n",
       "</table>\n",
       "</div>"
      ],
      "text/plain": [
       "             Parch  Miss  Mrs  Pclass_3  SibSp  CabinNumber  Sex  Mr     Fare  \\\n",
       "PassengerId                                                                     \n",
       "1                0     0    0         1      1        50.49    1   1   7.2500   \n",
       "2                0     0    1         0      1        85.00    0   0  71.2833   \n",
       "3                0     1    0         1      0        50.49    0   0   7.9250   \n",
       "4                0     0    1         0      1       123.00    0   0  53.1000   \n",
       "5                0     0    0         1      0        50.49    1   1   8.0500   \n",
       "\n",
       "              Age  \n",
       "PassengerId        \n",
       "1            22.0  \n",
       "2            38.0  \n",
       "3            26.0  \n",
       "4            35.0  \n",
       "5            35.0  "
      ]
     },
     "execution_count": 21,
     "metadata": {},
     "output_type": "execute_result"
    }
   ],
   "source": [
    "train_ds = refine_ds(train_ds)\n",
    "train_ds.head()"
   ]
  },
  {
   "cell_type": "code",
   "execution_count": 22,
   "id": "c7d15a09",
   "metadata": {
    "execution": {
     "iopub.execute_input": "2022-06-29T16:44:53.738455Z",
     "iopub.status.busy": "2022-06-29T16:44:53.737405Z",
     "iopub.status.idle": "2022-06-29T16:44:53.775175Z",
     "shell.execute_reply": "2022-06-29T16:44:53.774513Z"
    },
    "papermill": {
     "duration": 0.052908,
     "end_time": "2022-06-29T16:44:53.777234",
     "exception": false,
     "start_time": "2022-06-29T16:44:53.724326",
     "status": "completed"
    },
    "tags": []
   },
   "outputs": [
    {
     "data": {
      "text/html": [
       "<div>\n",
       "<style scoped>\n",
       "    .dataframe tbody tr th:only-of-type {\n",
       "        vertical-align: middle;\n",
       "    }\n",
       "\n",
       "    .dataframe tbody tr th {\n",
       "        vertical-align: top;\n",
       "    }\n",
       "\n",
       "    .dataframe thead th {\n",
       "        text-align: right;\n",
       "    }\n",
       "</style>\n",
       "<table border=\"1\" class=\"dataframe\">\n",
       "  <thead>\n",
       "    <tr style=\"text-align: right;\">\n",
       "      <th></th>\n",
       "      <th>Parch</th>\n",
       "      <th>Miss</th>\n",
       "      <th>Mrs</th>\n",
       "      <th>Pclass_3</th>\n",
       "      <th>SibSp</th>\n",
       "      <th>CabinNumber</th>\n",
       "      <th>Sex</th>\n",
       "      <th>Mr</th>\n",
       "      <th>Fare</th>\n",
       "      <th>Age</th>\n",
       "    </tr>\n",
       "  </thead>\n",
       "  <tbody>\n",
       "    <tr>\n",
       "      <th>count</th>\n",
       "      <td>891.000000</td>\n",
       "      <td>891.000000</td>\n",
       "      <td>891.000000</td>\n",
       "      <td>891.000000</td>\n",
       "      <td>891.000000</td>\n",
       "      <td>891.000000</td>\n",
       "      <td>891.000000</td>\n",
       "      <td>891.000000</td>\n",
       "      <td>891.000000</td>\n",
       "      <td>891.000000</td>\n",
       "    </tr>\n",
       "    <tr>\n",
       "      <th>mean</th>\n",
       "      <td>0.381594</td>\n",
       "      <td>0.206510</td>\n",
       "      <td>0.142536</td>\n",
       "      <td>0.551066</td>\n",
       "      <td>0.523008</td>\n",
       "      <td>50.490000</td>\n",
       "      <td>0.647587</td>\n",
       "      <td>0.580247</td>\n",
       "      <td>32.204208</td>\n",
       "      <td>29.699118</td>\n",
       "    </tr>\n",
       "    <tr>\n",
       "      <th>std</th>\n",
       "      <td>0.806057</td>\n",
       "      <td>0.405028</td>\n",
       "      <td>0.349796</td>\n",
       "      <td>0.497665</td>\n",
       "      <td>1.102743</td>\n",
       "      <td>16.736825</td>\n",
       "      <td>0.477990</td>\n",
       "      <td>0.493796</td>\n",
       "      <td>49.693429</td>\n",
       "      <td>13.002015</td>\n",
       "    </tr>\n",
       "    <tr>\n",
       "      <th>min</th>\n",
       "      <td>0.000000</td>\n",
       "      <td>0.000000</td>\n",
       "      <td>0.000000</td>\n",
       "      <td>0.000000</td>\n",
       "      <td>0.000000</td>\n",
       "      <td>2.000000</td>\n",
       "      <td>0.000000</td>\n",
       "      <td>0.000000</td>\n",
       "      <td>0.000000</td>\n",
       "      <td>0.420000</td>\n",
       "    </tr>\n",
       "    <tr>\n",
       "      <th>25%</th>\n",
       "      <td>0.000000</td>\n",
       "      <td>0.000000</td>\n",
       "      <td>0.000000</td>\n",
       "      <td>0.000000</td>\n",
       "      <td>0.000000</td>\n",
       "      <td>50.490000</td>\n",
       "      <td>0.000000</td>\n",
       "      <td>0.000000</td>\n",
       "      <td>7.910400</td>\n",
       "      <td>22.000000</td>\n",
       "    </tr>\n",
       "    <tr>\n",
       "      <th>50%</th>\n",
       "      <td>0.000000</td>\n",
       "      <td>0.000000</td>\n",
       "      <td>0.000000</td>\n",
       "      <td>1.000000</td>\n",
       "      <td>0.000000</td>\n",
       "      <td>50.490000</td>\n",
       "      <td>1.000000</td>\n",
       "      <td>1.000000</td>\n",
       "      <td>14.454200</td>\n",
       "      <td>29.699118</td>\n",
       "    </tr>\n",
       "    <tr>\n",
       "      <th>75%</th>\n",
       "      <td>0.000000</td>\n",
       "      <td>0.000000</td>\n",
       "      <td>0.000000</td>\n",
       "      <td>1.000000</td>\n",
       "      <td>1.000000</td>\n",
       "      <td>50.490000</td>\n",
       "      <td>1.000000</td>\n",
       "      <td>1.000000</td>\n",
       "      <td>31.000000</td>\n",
       "      <td>35.000000</td>\n",
       "    </tr>\n",
       "    <tr>\n",
       "      <th>max</th>\n",
       "      <td>6.000000</td>\n",
       "      <td>1.000000</td>\n",
       "      <td>1.000000</td>\n",
       "      <td>1.000000</td>\n",
       "      <td>8.000000</td>\n",
       "      <td>148.000000</td>\n",
       "      <td>1.000000</td>\n",
       "      <td>1.000000</td>\n",
       "      <td>512.329200</td>\n",
       "      <td>80.000000</td>\n",
       "    </tr>\n",
       "  </tbody>\n",
       "</table>\n",
       "</div>"
      ],
      "text/plain": [
       "            Parch        Miss         Mrs    Pclass_3       SibSp  \\\n",
       "count  891.000000  891.000000  891.000000  891.000000  891.000000   \n",
       "mean     0.381594    0.206510    0.142536    0.551066    0.523008   \n",
       "std      0.806057    0.405028    0.349796    0.497665    1.102743   \n",
       "min      0.000000    0.000000    0.000000    0.000000    0.000000   \n",
       "25%      0.000000    0.000000    0.000000    0.000000    0.000000   \n",
       "50%      0.000000    0.000000    0.000000    1.000000    0.000000   \n",
       "75%      0.000000    0.000000    0.000000    1.000000    1.000000   \n",
       "max      6.000000    1.000000    1.000000    1.000000    8.000000   \n",
       "\n",
       "       CabinNumber         Sex          Mr        Fare         Age  \n",
       "count   891.000000  891.000000  891.000000  891.000000  891.000000  \n",
       "mean     50.490000    0.647587    0.580247   32.204208   29.699118  \n",
       "std      16.736825    0.477990    0.493796   49.693429   13.002015  \n",
       "min       2.000000    0.000000    0.000000    0.000000    0.420000  \n",
       "25%      50.490000    0.000000    0.000000    7.910400   22.000000  \n",
       "50%      50.490000    1.000000    1.000000   14.454200   29.699118  \n",
       "75%      50.490000    1.000000    1.000000   31.000000   35.000000  \n",
       "max     148.000000    1.000000    1.000000  512.329200   80.000000  "
      ]
     },
     "execution_count": 22,
     "metadata": {},
     "output_type": "execute_result"
    }
   ],
   "source": [
    "train_ds.describe()"
   ]
  },
  {
   "cell_type": "markdown",
   "id": "b1cdacb4",
   "metadata": {
    "papermill": {
     "duration": 0.012438,
     "end_time": "2022-06-29T16:44:53.802581",
     "exception": false,
     "start_time": "2022-06-29T16:44:53.790143",
     "status": "completed"
    },
    "tags": []
   },
   "source": [
    "# Creating Models"
   ]
  },
  {
   "cell_type": "code",
   "execution_count": 23,
   "id": "f9380d6e",
   "metadata": {
    "execution": {
     "iopub.execute_input": "2022-06-29T16:44:53.830513Z",
     "iopub.status.busy": "2022-06-29T16:44:53.830061Z",
     "iopub.status.idle": "2022-06-29T16:44:53.834787Z",
     "shell.execute_reply": "2022-06-29T16:44:53.833792Z"
    },
    "papermill": {
     "duration": 0.020628,
     "end_time": "2022-06-29T16:44:53.836763",
     "exception": false,
     "start_time": "2022-06-29T16:44:53.816135",
     "status": "completed"
    },
    "tags": []
   },
   "outputs": [],
   "source": [
    "def get_avg_model_accuracy(model, ds):\n",
    "    return np.mean(cross_val_score(model, ds, labels, n_jobs=-1, scoring='accuracy'))"
   ]
  },
  {
   "cell_type": "code",
   "execution_count": 24,
   "id": "d5f447f3",
   "metadata": {
    "execution": {
     "iopub.execute_input": "2022-06-29T16:44:53.866295Z",
     "iopub.status.busy": "2022-06-29T16:44:53.865641Z",
     "iopub.status.idle": "2022-06-29T16:44:56.939877Z",
     "shell.execute_reply": "2022-06-29T16:44:56.938740Z"
    },
    "papermill": {
     "duration": 3.092716,
     "end_time": "2022-06-29T16:44:56.942850",
     "exception": false,
     "start_time": "2022-06-29T16:44:53.850134",
     "status": "completed"
    },
    "tags": []
   },
   "outputs": [
    {
     "name": "stdout",
     "output_type": "stream",
     "text": [
      "The baseline accuracy is 0.8170547988199109\n"
     ]
    }
   ],
   "source": [
    "baseline = XGBClassifier(random_state=42)\n",
    "accuracy = get_avg_model_accuracy(baseline, train_ds)\n",
    "print(f'The baseline accuracy is {accuracy}')"
   ]
  },
  {
   "cell_type": "code",
   "execution_count": 25,
   "id": "2d931abc",
   "metadata": {
    "execution": {
     "iopub.execute_input": "2022-06-29T16:44:56.969698Z",
     "iopub.status.busy": "2022-06-29T16:44:56.969177Z",
     "iopub.status.idle": "2022-06-29T16:44:57.751468Z",
     "shell.execute_reply": "2022-06-29T16:44:57.750472Z"
    },
    "papermill": {
     "duration": 0.799071,
     "end_time": "2022-06-29T16:44:57.754537",
     "exception": false,
     "start_time": "2022-06-29T16:44:56.955466",
     "status": "completed"
    },
    "tags": []
   },
   "outputs": [
    {
     "name": "stdout",
     "output_type": "stream",
     "text": [
      "The accuracy of this model was 0.8170547988199109\n"
     ]
    }
   ],
   "source": [
    "model = XGBClassifier(n_estimators=100, n_jobs=-1, random_state=42)\n",
    "accuracy = get_avg_model_accuracy(model, train_ds)\n",
    "print(f'The accuracy of this model was {accuracy}')"
   ]
  },
  {
   "cell_type": "markdown",
   "id": "c64b9980",
   "metadata": {
    "papermill": {
     "duration": 0.011935,
     "end_time": "2022-06-29T16:44:57.778990",
     "exception": false,
     "start_time": "2022-06-29T16:44:57.767055",
     "status": "completed"
    },
    "tags": []
   },
   "source": [
    "From this we can see that the default value of n_estimators is clearly 100 since the score matches exactly. We then perform hyperparameter optimization"
   ]
  },
  {
   "cell_type": "code",
   "execution_count": 26,
   "id": "f72a9f70",
   "metadata": {
    "execution": {
     "iopub.execute_input": "2022-06-29T16:44:57.805946Z",
     "iopub.status.busy": "2022-06-29T16:44:57.805315Z",
     "iopub.status.idle": "2022-06-29T16:44:57.811876Z",
     "shell.execute_reply": "2022-06-29T16:44:57.810861Z"
    },
    "papermill": {
     "duration": 0.021886,
     "end_time": "2022-06-29T16:44:57.813739",
     "exception": false,
     "start_time": "2022-06-29T16:44:57.791853",
     "status": "completed"
    },
    "tags": []
   },
   "outputs": [],
   "source": [
    "run_grid_search = False\n",
    "if run_grid_search:\n",
    "\n",
    "    param_grid = {\n",
    "        'learning_rate':[0.1, 0.15, 0.2, 0.25, 0.3, 0.35, 0.4],\n",
    "        'max_depth': [None, *range(1, 11)],\n",
    "        'n_estimators':[1, 5, 10, 50, 100, 200],\n",
    "    }\n",
    "    grid_search = GridSearchCV(XGBClassifier(random_state=42), param_grid, n_jobs=-1)\n",
    "    grid_search.fit(train_ds, labels)\n",
    "    print('The best parameters are:')\n",
    "    print(grid_search.best_params_)"
   ]
  },
  {
   "cell_type": "markdown",
   "id": "e5109e80",
   "metadata": {
    "papermill": {
     "duration": 0.011896,
     "end_time": "2022-06-29T16:44:57.837770",
     "exception": false,
     "start_time": "2022-06-29T16:44:57.825874",
     "status": "completed"
    },
    "tags": []
   },
   "source": [
    "We then take these parameters and form our final model. Also generating the model's score on our test dataset"
   ]
  },
  {
   "cell_type": "code",
   "execution_count": 27,
   "id": "da56e5eb",
   "metadata": {
    "execution": {
     "iopub.execute_input": "2022-06-29T16:44:57.864983Z",
     "iopub.status.busy": "2022-06-29T16:44:57.864244Z",
     "iopub.status.idle": "2022-06-29T16:44:58.389129Z",
     "shell.execute_reply": "2022-06-29T16:44:58.388046Z"
    },
    "papermill": {
     "duration": 0.541678,
     "end_time": "2022-06-29T16:44:58.392040",
     "exception": false,
     "start_time": "2022-06-29T16:44:57.850362",
     "status": "completed"
    },
    "tags": []
   },
   "outputs": [
    {
     "name": "stdout",
     "output_type": "stream",
     "text": [
      "The accuracy of this model on the training set was 0.8339150084740442\n"
     ]
    }
   ],
   "source": [
    "model = XGBClassifier(learning_rate=0.4, max_depth=3, n_estimators=50, n_jobs=-1)\n",
    "model.fit(train_ds, labels)\n",
    "accuracy = get_avg_model_accuracy(model, train_ds)\n",
    "print(f'The accuracy of this model on the training set was {accuracy}')"
   ]
  },
  {
   "cell_type": "markdown",
   "id": "89e74e53",
   "metadata": {
    "papermill": {
     "duration": 0.01478,
     "end_time": "2022-06-29T16:44:58.420506",
     "exception": false,
     "start_time": "2022-06-29T16:44:58.405726",
     "status": "completed"
    },
    "tags": []
   },
   "source": [
    "# Generating Predictions"
   ]
  },
  {
   "cell_type": "markdown",
   "id": "248d9166",
   "metadata": {
    "papermill": {
     "duration": 0.012602,
     "end_time": "2022-06-29T16:44:58.446740",
     "exception": false,
     "start_time": "2022-06-29T16:44:58.434138",
     "status": "completed"
    },
    "tags": []
   },
   "source": [
    "With our final model we can generate predictions for the test data. However we must first load and process the test data"
   ]
  },
  {
   "cell_type": "code",
   "execution_count": 28,
   "id": "2b7c82d5",
   "metadata": {
    "execution": {
     "iopub.execute_input": "2022-06-29T16:44:58.474023Z",
     "iopub.status.busy": "2022-06-29T16:44:58.473624Z",
     "iopub.status.idle": "2022-06-29T16:44:58.489734Z",
     "shell.execute_reply": "2022-06-29T16:44:58.488719Z"
    },
    "papermill": {
     "duration": 0.03219,
     "end_time": "2022-06-29T16:44:58.491963",
     "exception": false,
     "start_time": "2022-06-29T16:44:58.459773",
     "status": "completed"
    },
    "tags": []
   },
   "outputs": [
    {
     "data": {
      "text/html": [
       "<div>\n",
       "<style scoped>\n",
       "    .dataframe tbody tr th:only-of-type {\n",
       "        vertical-align: middle;\n",
       "    }\n",
       "\n",
       "    .dataframe tbody tr th {\n",
       "        vertical-align: top;\n",
       "    }\n",
       "\n",
       "    .dataframe thead th {\n",
       "        text-align: right;\n",
       "    }\n",
       "</style>\n",
       "<table border=\"1\" class=\"dataframe\">\n",
       "  <thead>\n",
       "    <tr style=\"text-align: right;\">\n",
       "      <th></th>\n",
       "      <th>Pclass</th>\n",
       "      <th>Name</th>\n",
       "      <th>Sex</th>\n",
       "      <th>Age</th>\n",
       "      <th>SibSp</th>\n",
       "      <th>Parch</th>\n",
       "      <th>Ticket</th>\n",
       "      <th>Fare</th>\n",
       "      <th>Cabin</th>\n",
       "      <th>Embarked</th>\n",
       "    </tr>\n",
       "    <tr>\n",
       "      <th>PassengerId</th>\n",
       "      <th></th>\n",
       "      <th></th>\n",
       "      <th></th>\n",
       "      <th></th>\n",
       "      <th></th>\n",
       "      <th></th>\n",
       "      <th></th>\n",
       "      <th></th>\n",
       "      <th></th>\n",
       "      <th></th>\n",
       "    </tr>\n",
       "  </thead>\n",
       "  <tbody>\n",
       "    <tr>\n",
       "      <th>892</th>\n",
       "      <td>3</td>\n",
       "      <td>Kelly, Mr. James</td>\n",
       "      <td>male</td>\n",
       "      <td>34.5</td>\n",
       "      <td>0</td>\n",
       "      <td>0</td>\n",
       "      <td>330911</td>\n",
       "      <td>7.8292</td>\n",
       "      <td>NaN</td>\n",
       "      <td>Q</td>\n",
       "    </tr>\n",
       "    <tr>\n",
       "      <th>893</th>\n",
       "      <td>3</td>\n",
       "      <td>Wilkes, Mrs. James (Ellen Needs)</td>\n",
       "      <td>female</td>\n",
       "      <td>47.0</td>\n",
       "      <td>1</td>\n",
       "      <td>0</td>\n",
       "      <td>363272</td>\n",
       "      <td>7.0000</td>\n",
       "      <td>NaN</td>\n",
       "      <td>S</td>\n",
       "    </tr>\n",
       "    <tr>\n",
       "      <th>894</th>\n",
       "      <td>2</td>\n",
       "      <td>Myles, Mr. Thomas Francis</td>\n",
       "      <td>male</td>\n",
       "      <td>62.0</td>\n",
       "      <td>0</td>\n",
       "      <td>0</td>\n",
       "      <td>240276</td>\n",
       "      <td>9.6875</td>\n",
       "      <td>NaN</td>\n",
       "      <td>Q</td>\n",
       "    </tr>\n",
       "    <tr>\n",
       "      <th>895</th>\n",
       "      <td>3</td>\n",
       "      <td>Wirz, Mr. Albert</td>\n",
       "      <td>male</td>\n",
       "      <td>27.0</td>\n",
       "      <td>0</td>\n",
       "      <td>0</td>\n",
       "      <td>315154</td>\n",
       "      <td>8.6625</td>\n",
       "      <td>NaN</td>\n",
       "      <td>S</td>\n",
       "    </tr>\n",
       "    <tr>\n",
       "      <th>896</th>\n",
       "      <td>3</td>\n",
       "      <td>Hirvonen, Mrs. Alexander (Helga E Lindqvist)</td>\n",
       "      <td>female</td>\n",
       "      <td>22.0</td>\n",
       "      <td>1</td>\n",
       "      <td>1</td>\n",
       "      <td>3101298</td>\n",
       "      <td>12.2875</td>\n",
       "      <td>NaN</td>\n",
       "      <td>S</td>\n",
       "    </tr>\n",
       "  </tbody>\n",
       "</table>\n",
       "</div>"
      ],
      "text/plain": [
       "             Pclass                                          Name     Sex  \\\n",
       "PassengerId                                                                 \n",
       "892               3                              Kelly, Mr. James    male   \n",
       "893               3              Wilkes, Mrs. James (Ellen Needs)  female   \n",
       "894               2                     Myles, Mr. Thomas Francis    male   \n",
       "895               3                              Wirz, Mr. Albert    male   \n",
       "896               3  Hirvonen, Mrs. Alexander (Helga E Lindqvist)  female   \n",
       "\n",
       "              Age  SibSp  Parch   Ticket     Fare Cabin Embarked  \n",
       "PassengerId                                                       \n",
       "892          34.5      0      0   330911   7.8292   NaN        Q  \n",
       "893          47.0      1      0   363272   7.0000   NaN        S  \n",
       "894          62.0      0      0   240276   9.6875   NaN        Q  \n",
       "895          27.0      0      0   315154   8.6625   NaN        S  \n",
       "896          22.0      1      1  3101298  12.2875   NaN        S  "
      ]
     },
     "execution_count": 28,
     "metadata": {},
     "output_type": "execute_result"
    }
   ],
   "source": [
    "test_data.head()"
   ]
  },
  {
   "cell_type": "code",
   "execution_count": 29,
   "id": "1f401e2a",
   "metadata": {
    "execution": {
     "iopub.execute_input": "2022-06-29T16:44:58.519153Z",
     "iopub.status.busy": "2022-06-29T16:44:58.518383Z",
     "iopub.status.idle": "2022-06-29T16:44:58.577775Z",
     "shell.execute_reply": "2022-06-29T16:44:58.576803Z"
    },
    "papermill": {
     "duration": 0.075113,
     "end_time": "2022-06-29T16:44:58.579732",
     "exception": false,
     "start_time": "2022-06-29T16:44:58.504619",
     "status": "completed"
    },
    "tags": []
   },
   "outputs": [
    {
     "data": {
      "text/html": [
       "<div>\n",
       "<style scoped>\n",
       "    .dataframe tbody tr th:only-of-type {\n",
       "        vertical-align: middle;\n",
       "    }\n",
       "\n",
       "    .dataframe tbody tr th {\n",
       "        vertical-align: top;\n",
       "    }\n",
       "\n",
       "    .dataframe thead th {\n",
       "        text-align: right;\n",
       "    }\n",
       "</style>\n",
       "<table border=\"1\" class=\"dataframe\">\n",
       "  <thead>\n",
       "    <tr style=\"text-align: right;\">\n",
       "      <th></th>\n",
       "      <th>Parch</th>\n",
       "      <th>Miss</th>\n",
       "      <th>Mrs</th>\n",
       "      <th>Pclass_3</th>\n",
       "      <th>SibSp</th>\n",
       "      <th>CabinNumber</th>\n",
       "      <th>Sex</th>\n",
       "      <th>Mr</th>\n",
       "      <th>Fare</th>\n",
       "      <th>Age</th>\n",
       "    </tr>\n",
       "    <tr>\n",
       "      <th>PassengerId</th>\n",
       "      <th></th>\n",
       "      <th></th>\n",
       "      <th></th>\n",
       "      <th></th>\n",
       "      <th></th>\n",
       "      <th></th>\n",
       "      <th></th>\n",
       "      <th></th>\n",
       "      <th></th>\n",
       "      <th></th>\n",
       "    </tr>\n",
       "  </thead>\n",
       "  <tbody>\n",
       "    <tr>\n",
       "      <th>892</th>\n",
       "      <td>0</td>\n",
       "      <td>0</td>\n",
       "      <td>0</td>\n",
       "      <td>1</td>\n",
       "      <td>0</td>\n",
       "      <td>50.49</td>\n",
       "      <td>1</td>\n",
       "      <td>1</td>\n",
       "      <td>7.8292</td>\n",
       "      <td>34.5</td>\n",
       "    </tr>\n",
       "    <tr>\n",
       "      <th>893</th>\n",
       "      <td>0</td>\n",
       "      <td>0</td>\n",
       "      <td>1</td>\n",
       "      <td>1</td>\n",
       "      <td>1</td>\n",
       "      <td>50.49</td>\n",
       "      <td>0</td>\n",
       "      <td>0</td>\n",
       "      <td>7.0000</td>\n",
       "      <td>47.0</td>\n",
       "    </tr>\n",
       "    <tr>\n",
       "      <th>894</th>\n",
       "      <td>0</td>\n",
       "      <td>0</td>\n",
       "      <td>0</td>\n",
       "      <td>0</td>\n",
       "      <td>0</td>\n",
       "      <td>50.49</td>\n",
       "      <td>1</td>\n",
       "      <td>1</td>\n",
       "      <td>9.6875</td>\n",
       "      <td>62.0</td>\n",
       "    </tr>\n",
       "    <tr>\n",
       "      <th>895</th>\n",
       "      <td>0</td>\n",
       "      <td>0</td>\n",
       "      <td>0</td>\n",
       "      <td>1</td>\n",
       "      <td>0</td>\n",
       "      <td>50.49</td>\n",
       "      <td>1</td>\n",
       "      <td>1</td>\n",
       "      <td>8.6625</td>\n",
       "      <td>27.0</td>\n",
       "    </tr>\n",
       "    <tr>\n",
       "      <th>896</th>\n",
       "      <td>1</td>\n",
       "      <td>0</td>\n",
       "      <td>1</td>\n",
       "      <td>1</td>\n",
       "      <td>1</td>\n",
       "      <td>50.49</td>\n",
       "      <td>0</td>\n",
       "      <td>0</td>\n",
       "      <td>12.2875</td>\n",
       "      <td>22.0</td>\n",
       "    </tr>\n",
       "  </tbody>\n",
       "</table>\n",
       "</div>"
      ],
      "text/plain": [
       "             Parch  Miss  Mrs  Pclass_3  SibSp  CabinNumber  Sex  Mr     Fare  \\\n",
       "PassengerId                                                                     \n",
       "892              0     0    0         1      0        50.49    1   1   7.8292   \n",
       "893              0     0    1         1      1        50.49    0   0   7.0000   \n",
       "894              0     0    0         0      0        50.49    1   1   9.6875   \n",
       "895              0     0    0         1      0        50.49    1   1   8.6625   \n",
       "896              1     0    1         1      1        50.49    0   0  12.2875   \n",
       "\n",
       "              Age  \n",
       "PassengerId        \n",
       "892          34.5  \n",
       "893          47.0  \n",
       "894          62.0  \n",
       "895          27.0  \n",
       "896          22.0  "
      ]
     },
     "execution_count": 29,
     "metadata": {},
     "output_type": "execute_result"
    }
   ],
   "source": [
    "test_ds = process_data(test_data, mean_cabin_number=mean_cabin_number, test=True)\n",
    "test_ds = refine_ds(test_ds)\n",
    "test_ds.head()"
   ]
  },
  {
   "cell_type": "code",
   "execution_count": 30,
   "id": "cf5b9d7e",
   "metadata": {
    "execution": {
     "iopub.execute_input": "2022-06-29T16:44:58.607804Z",
     "iopub.status.busy": "2022-06-29T16:44:58.607433Z",
     "iopub.status.idle": "2022-06-29T16:44:58.626486Z",
     "shell.execute_reply": "2022-06-29T16:44:58.625722Z"
    },
    "papermill": {
     "duration": 0.035421,
     "end_time": "2022-06-29T16:44:58.628432",
     "exception": false,
     "start_time": "2022-06-29T16:44:58.593011",
     "status": "completed"
    },
    "tags": []
   },
   "outputs": [
    {
     "data": {
      "text/html": [
       "<div>\n",
       "<style scoped>\n",
       "    .dataframe tbody tr th:only-of-type {\n",
       "        vertical-align: middle;\n",
       "    }\n",
       "\n",
       "    .dataframe tbody tr th {\n",
       "        vertical-align: top;\n",
       "    }\n",
       "\n",
       "    .dataframe thead th {\n",
       "        text-align: right;\n",
       "    }\n",
       "</style>\n",
       "<table border=\"1\" class=\"dataframe\">\n",
       "  <thead>\n",
       "    <tr style=\"text-align: right;\">\n",
       "      <th></th>\n",
       "      <th>Survived</th>\n",
       "    </tr>\n",
       "    <tr>\n",
       "      <th>PassengerId</th>\n",
       "      <th></th>\n",
       "    </tr>\n",
       "  </thead>\n",
       "  <tbody>\n",
       "    <tr>\n",
       "      <th>892</th>\n",
       "      <td>0</td>\n",
       "    </tr>\n",
       "    <tr>\n",
       "      <th>893</th>\n",
       "      <td>0</td>\n",
       "    </tr>\n",
       "    <tr>\n",
       "      <th>894</th>\n",
       "      <td>0</td>\n",
       "    </tr>\n",
       "    <tr>\n",
       "      <th>895</th>\n",
       "      <td>0</td>\n",
       "    </tr>\n",
       "    <tr>\n",
       "      <th>896</th>\n",
       "      <td>1</td>\n",
       "    </tr>\n",
       "  </tbody>\n",
       "</table>\n",
       "</div>"
      ],
      "text/plain": [
       "             Survived\n",
       "PassengerId          \n",
       "892                 0\n",
       "893                 0\n",
       "894                 0\n",
       "895                 0\n",
       "896                 1"
      ]
     },
     "execution_count": 30,
     "metadata": {},
     "output_type": "execute_result"
    }
   ],
   "source": [
    "predictions = pd.DataFrame(model.predict(test_ds))\n",
    "predictions.columns = ['Survived']\n",
    "predictions.index = test_data.index\n",
    "predictions.head() # making sure we match the form of the example submission"
   ]
  },
  {
   "cell_type": "code",
   "execution_count": 31,
   "id": "b2690570",
   "metadata": {
    "execution": {
     "iopub.execute_input": "2022-06-29T16:44:58.656333Z",
     "iopub.status.busy": "2022-06-29T16:44:58.655460Z",
     "iopub.status.idle": "2022-06-29T16:44:58.663539Z",
     "shell.execute_reply": "2022-06-29T16:44:58.662729Z"
    },
    "papermill": {
     "duration": 0.024438,
     "end_time": "2022-06-29T16:44:58.666119",
     "exception": false,
     "start_time": "2022-06-29T16:44:58.641681",
     "status": "completed"
    },
    "tags": []
   },
   "outputs": [],
   "source": [
    "predictions.to_csv('submission.csv')"
   ]
  }
 ],
 "metadata": {
  "kernelspec": {
   "display_name": "Python 3",
   "language": "python",
   "name": "python3"
  },
  "language_info": {
   "codemirror_mode": {
    "name": "ipython",
    "version": 3
   },
   "file_extension": ".py",
   "mimetype": "text/x-python",
   "name": "python",
   "nbconvert_exporter": "python",
   "pygments_lexer": "ipython3",
   "version": "3.7.12"
  },
  "papermill": {
   "default_parameters": {},
   "duration": 21.270894,
   "end_time": "2022-06-29T16:45:01.299006",
   "environment_variables": {},
   "exception": null,
   "input_path": "__notebook__.ipynb",
   "output_path": "__notebook__.ipynb",
   "parameters": {},
   "start_time": "2022-06-29T16:44:40.028112",
   "version": "2.3.4"
  }
 },
 "nbformat": 4,
 "nbformat_minor": 5
}
